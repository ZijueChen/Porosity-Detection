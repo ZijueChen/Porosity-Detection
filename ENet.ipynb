{
 "cells": [
  {
   "cell_type": "code",
   "execution_count": 1,
   "metadata": {},
   "outputs": [],
   "source": [
    "import tensorflow as tf\n",
    "\n",
    "import os\n",
    "import time\n",
    "import cv2\n",
    "import numpy as np\n",
    "import pandas as pd\n",
    "import shutil\n",
    "from glob import glob\n",
    "\n",
    "from matplotlib import pyplot as plt\n",
    "from IPython import display"
   ]
  },
  {
   "cell_type": "code",
   "execution_count": 2,
   "metadata": {},
   "outputs": [],
   "source": [
    "numm = 256\n",
    "RGBD_path = 'pics2\\\\'\n",
    "point_path = 'point_folder2\\\\'\n",
    "error_path = 'GT_density\\\\'"
   ]
  },
  {
   "cell_type": "code",
   "execution_count": 3,
   "metadata": {},
   "outputs": [],
   "source": [
    "pic = np.zeros([1,1])\n",
    "def cross_validation(validnum):\n",
    "    shutil.rmtree(point_path + 'train')\n",
    "    shutil.rmtree(point_path + 'test')\n",
    "    os.mkdir(point_path + 'train')\n",
    "    os.mkdir(point_path + 'test')\n",
    "    for i in range(5):\n",
    "        files = glob(point_path + 'group' + str(i) + '\\\\*.png')\n",
    "        if i == validnum:\n",
    "            for file in files:\n",
    "                name = list(file.split('\\\\'))[-1]\n",
    "                cv2.imwrite(point_path + 'test\\\\' + name, pic)\n",
    "        else:\n",
    "            for file in files:\n",
    "                name = list(file.split('\\\\'))[-1][:-4]\n",
    "                cv2.imwrite(point_path + 'train\\\\' + name + '.png', pic)\n",
    "                cv2.imwrite(point_path + 'train\\\\' + name + '_0.png', pic)\n",
    "                cv2.imwrite(point_path + 'train\\\\' + name + '_1.png', pic)\n",
    "                cv2.imwrite(point_path + 'train\\\\' + name + '_2.png', pic)"
   ]
  },
  {
   "cell_type": "code",
   "execution_count": 4,
   "metadata": {},
   "outputs": [],
   "source": [
    "validnum = 4\n",
    "cross_validation(validnum)"
   ]
  },
  {
   "cell_type": "code",
   "execution_count": 5,
   "metadata": {},
   "outputs": [],
   "source": [
    "BUFFER_SIZE = 500\n",
    "BATCH_SIZE = 8\n",
    "IMG_WIDTH = 256\n",
    "IMG_HEIGHT = 256\n",
    "# STEPS_PER_EPOCH = 512 // BATCH_SIZE"
   ]
  },
  {
   "cell_type": "code",
   "execution_count": 6,
   "metadata": {
    "scrolled": false
   },
   "outputs": [
    {
     "data": {
      "text/plain": [
       "[PhysicalDevice(name='/physical_device:GPU:0', device_type='GPU')]"
      ]
     },
     "execution_count": 6,
     "metadata": {},
     "output_type": "execute_result"
    }
   ],
   "source": [
    "tf.config.list_physical_devices('GPU')"
   ]
  },
  {
   "cell_type": "code",
   "execution_count": 7,
   "metadata": {},
   "outputs": [],
   "source": [
    "@tf.function\n",
    "def load_image(point_file):\n",
    "    name = tf.strings.split(point_file,'\\\\')[-1]\n",
    "\n",
    "    RGBD = tf.io.read_file(RGBD_path + name)\n",
    "    error = tf.io.read_file(error_path + name)\n",
    "    RGBD = tf.image.decode_png(RGBD)\n",
    "    error = tf.image.decode_png(error)[:, :, 0][0]\n",
    "    \n",
    "    RGBD = tf.cast(RGBD, tf.float32) / 255.0\n",
    "    error = tf.cast(error, tf.float32) / 255.\n",
    "#     error = tf.reshape(error, [numm*2]) # 这里要改\n",
    "#     RGBD = tf.image.resize(RGBD, [256, 256],method=tf.image.ResizeMethod.NEAREST_NEIGHBOR)\n",
    "    return RGBD, error"
   ]
  },
  {
   "cell_type": "code",
   "execution_count": 8,
   "metadata": {},
   "outputs": [],
   "source": [
    "output_channel = 1# 这里要改"
   ]
  },
  {
   "cell_type": "code",
   "execution_count": 9,
   "metadata": {},
   "outputs": [],
   "source": [
    "# os.path.join(folder, 'point_folder', 'group' + str(i), '*.png')\n",
    "train_dataset = tf.data.Dataset.list_files(point_path + 'train\\\\*.png')\n",
    "train_dataset = train_dataset.map(load_image,\n",
    "                                  num_parallel_calls=tf.data.experimental.AUTOTUNE)\n",
    "train_dataset = train_dataset.shuffle(BUFFER_SIZE)\n",
    "train_dataset = train_dataset.batch(BATCH_SIZE)#.repeat()"
   ]
  },
  {
   "cell_type": "code",
   "execution_count": 10,
   "metadata": {},
   "outputs": [],
   "source": [
    "test_dataset = tf.data.Dataset.list_files(point_path+'test\\\\*.png')\n",
    "test_dataset = test_dataset.map(load_image)\n",
    "test_dataset = test_dataset.batch(BATCH_SIZE)"
   ]
  },
  {
   "cell_type": "code",
   "execution_count": 11,
   "metadata": {},
   "outputs": [],
   "source": [
    "# Pretrain have a try\n",
    "base_model = tf.keras.applications.EfficientNetB4(input_shape=[256, 256, 3], include_top=False, weights='imagenet')#here\n",
    "# base_model = tf.keras.applications.vgg16.VGG16(input_shape=[256, 256, 1], include_top=False, weights=None)#这里要改"
   ]
  },
  {
   "cell_type": "code",
   "execution_count": 12,
   "metadata": {},
   "outputs": [],
   "source": [
    "ptm = tf.keras.Model(inputs=base_model.input, outputs=base_model.output)\n",
    "# ptm.summary()"
   ]
  },
  {
   "cell_type": "code",
   "execution_count": 13,
   "metadata": {},
   "outputs": [],
   "source": [
    "# # Fully Connection\n",
    "# def IEF():\n",
    "#     inputs = tf.keras.layers.Input(shape=[256,256,1]) #这里改数here\n",
    "#     x = tf.keras.layers.Conv2D(64, 5, strides=4, padding='same')(inputs)\n",
    "#     x = tf.keras.layers.BatchNormalization()(x)\n",
    "#     x = tf.keras.layers.LeakyReLU()(x)\n",
    "#     x = tf.keras.layers.Conv2D(128, 5, strides=4, padding='same')(x)\n",
    "#     x = tf.keras.layers.BatchNormalization()(x)\n",
    "#     x = tf.keras.layers.LeakyReLU()(x)\n",
    "#     x = tf.keras.layers.Conv2D(256, 5, strides=4, padding='same')(x)\n",
    "#     x = tf.keras.layers.BatchNormalization()(x)\n",
    "#     x = tf.keras.layers.LeakyReLU()(x)\n",
    "#     x = tf.keras.layers.Conv2D(512, 5, strides=4, padding='same')(x)\n",
    "#     x = tf.keras.layers.BatchNormalization()(x)\n",
    "#     x = tf.keras.layers.LeakyReLU()(x)\n",
    "#     x = tf.keras.layers.Conv2D(1, 1, strides=1)(x)\n",
    "\n",
    "#     return tf.keras.Model(inputs=inputs, outputs=x)"
   ]
  },
  {
   "cell_type": "code",
   "execution_count": 14,
   "metadata": {},
   "outputs": [],
   "source": [
    "# most simple\n",
    "# def IEF():\n",
    "#     inputs = tf.keras.layers.Input(shape=[256,256,1]) #这里改数here\n",
    "#     x = tf.keras.layers.Flatten()(inputs)\n",
    "#     x = tf.keras.layers.Dense(output_channel)(x)\n",
    "\n",
    "#     return tf.keras.Model(inputs=inputs, outputs=x)"
   ]
  },
  {
   "cell_type": "code",
   "execution_count": 15,
   "metadata": {},
   "outputs": [],
   "source": [
    "# 需要backbone的fully connected head\n",
    "def IEF():\n",
    "    inputs = tf.keras.layers.Input(shape=[256,256,3]) #这里改数here\n",
    "    x = ptm(inputs)\n",
    "    x = tf.keras.layers.Flatten()(x)\n",
    "#     x = tf.keras.layers.Dropout(0.2)(x)\n",
    "    x = tf.keras.layers.Dense(2048, activation='relu')(x)#\n",
    "#     x = tf.keras.layers.LeakyReLU()(x)\n",
    "#     x = tf.keras.layers.Dropout(0.2)(x)\n",
    "    x = tf.keras.layers.Dense(512, activation='relu')(x)#\n",
    "#     x = tf.keras.layers.LeakyReLU()(x)\n",
    "#     x = tf.keras.layers.Dropout(0.2)(x)\n",
    "    x = tf.keras.layers.Dense(output_channel)(x)#, activation='relu'\n",
    "\n",
    "    return tf.keras.Model(inputs=inputs, outputs=x)"
   ]
  },
  {
   "cell_type": "code",
   "execution_count": 16,
   "metadata": {},
   "outputs": [],
   "source": [
    "# 需要backbone的Fully Convolution\n",
    "# def IEF():\n",
    "#     inputs = tf.keras.layers.Input(shape=[256,256,4])\n",
    "#     x = ptm(inputs)\n",
    "#     x = tf.keras.layers.Conv2D(128, (5,5), strides=2, padding='same')(x)\n",
    "#     x = tf.keras.layers.BatchNormalization()(x)\n",
    "#     x = tf.keras.layers.LeakyReLU()(x)\n",
    "#     x = tf.keras.layers.Conv2D(256, (5,5), strides=2, padding='same')(x)\n",
    "#     x = tf.keras.layers.BatchNormalization()(x)\n",
    "#     x = tf.keras.layers.LeakyReLU()(x)\n",
    "#     x = tf.keras.layers.Conv2D(512, (5,5), strides=2, padding='same')(x)\n",
    "# #     x = tf.keras.layers.BatchNormalization()(x)\n",
    "# #     x = tf.keras.layers.LeakyReLU()(x)\n",
    "# #     x = tf.keras.layers.Conv2D(1024, (5,5), strides=4, padding='same')(x)# there\n",
    "\n",
    "#     return tf.keras.Model(inputs=inputs, outputs=x)"
   ]
  },
  {
   "cell_type": "code",
   "execution_count": 17,
   "metadata": {
    "scrolled": true
   },
   "outputs": [
    {
     "name": "stdout",
     "output_type": "stream",
     "text": [
      "Model: \"model_1\"\n",
      "_________________________________________________________________\n",
      "Layer (type)                 Output Shape              Param #   \n",
      "=================================================================\n",
      "input_2 (InputLayer)         [(None, 256, 256, 3)]     0         \n",
      "_________________________________________________________________\n",
      "model (Functional)           (None, 8, 8, 1792)        17673823  \n",
      "_________________________________________________________________\n",
      "flatten (Flatten)            (None, 114688)            0         \n",
      "_________________________________________________________________\n",
      "dense (Dense)                (None, 2048)              234883072 \n",
      "_________________________________________________________________\n",
      "dense_1 (Dense)              (None, 512)               1049088   \n",
      "_________________________________________________________________\n",
      "dense_2 (Dense)              (None, 1)                 513       \n",
      "=================================================================\n",
      "Total params: 253,606,496\n",
      "Trainable params: 253,481,289\n",
      "Non-trainable params: 125,207\n",
      "_________________________________________________________________\n"
     ]
    }
   ],
   "source": [
    "model = IEF()\n",
    "model.summary()"
   ]
  },
  {
   "cell_type": "code",
   "execution_count": 18,
   "metadata": {},
   "outputs": [],
   "source": [
    "model.compile(optimizer='adam',\n",
    "             loss=tf.keras.losses.MeanSquaredError())"
   ]
  },
  {
   "cell_type": "code",
   "execution_count": 19,
   "metadata": {},
   "outputs": [],
   "source": [
    "checkpoint_filepath = 'weights_checkpoints/2_0'\n",
    "model_checkpoint_callback = tf.keras.callbacks.ModelCheckpoint(\n",
    "    filepath=checkpoint_filepath,\n",
    "    save_weights_only=True,\n",
    "    monitor='val_loss',\n",
    "    mode='min',\n",
    "    save_best_only=True)"
   ]
  },
  {
   "cell_type": "code",
   "execution_count": 20,
   "metadata": {},
   "outputs": [
    {
     "name": "stdout",
     "output_type": "stream",
     "text": [
      "Epoch 1/100\n",
      "118/118 [==============================] - 40s 193ms/step - loss: 131.9812 - val_loss: 0.8273\n",
      "Epoch 2/100\n",
      "118/118 [==============================] - 21s 175ms/step - loss: 0.3659 - val_loss: 0.8826\n",
      "Epoch 3/100\n",
      "118/118 [==============================] - 21s 174ms/step - loss: 0.1443 - val_loss: 0.1711\n",
      "Epoch 4/100\n",
      "118/118 [==============================] - 21s 178ms/step - loss: 0.0904 - val_loss: 0.1037\n",
      "Epoch 5/100\n",
      "118/118 [==============================] - 21s 177ms/step - loss: 0.1053 - val_loss: 0.0449\n",
      "Epoch 6/100\n",
      "118/118 [==============================] - 21s 174ms/step - loss: 0.0674 - val_loss: 0.0734\n",
      "Epoch 7/100\n",
      "118/118 [==============================] - 21s 177ms/step - loss: 0.0796 - val_loss: 0.1010\n",
      "Epoch 8/100\n",
      "118/118 [==============================] - 21s 175ms/step - loss: 0.0645 - val_loss: 0.0325\n",
      "Epoch 9/100\n",
      "118/118 [==============================] - 21s 175ms/step - loss: 0.0521 - val_loss: 0.0346\n",
      "Epoch 10/100\n",
      "118/118 [==============================] - 21s 176ms/step - loss: 0.0440 - val_loss: 0.1083\n",
      "Epoch 11/100\n",
      "118/118 [==============================] - 21s 175ms/step - loss: 0.0683 - val_loss: 0.0346\n",
      "Epoch 12/100\n",
      "118/118 [==============================] - 21s 175ms/step - loss: 0.0307 - val_loss: 0.1877\n",
      "Epoch 13/100\n",
      "118/118 [==============================] - 21s 175ms/step - loss: 0.0347 - val_loss: 0.0087\n",
      "Epoch 14/100\n",
      "118/118 [==============================] - 21s 175ms/step - loss: 0.0281 - val_loss: 0.0326\n",
      "Epoch 15/100\n",
      "118/118 [==============================] - 21s 175ms/step - loss: 0.0186 - val_loss: 0.0090\n",
      "Epoch 16/100\n",
      "118/118 [==============================] - 21s 175ms/step - loss: 0.0158 - val_loss: 0.0094\n",
      "Epoch 17/100\n",
      "118/118 [==============================] - 21s 175ms/step - loss: 0.0203 - val_loss: 0.0633\n",
      "Epoch 18/100\n",
      "118/118 [==============================] - 21s 176ms/step - loss: 0.0208 - val_loss: 0.0137\n",
      "Epoch 19/100\n",
      "118/118 [==============================] - 21s 176ms/step - loss: 0.0169 - val_loss: 0.0085\n",
      "Epoch 20/100\n",
      "118/118 [==============================] - 21s 175ms/step - loss: 0.0143 - val_loss: 0.0053\n",
      "Epoch 21/100\n",
      "118/118 [==============================] - 21s 177ms/step - loss: 0.0117 - val_loss: 0.0143\n",
      "Epoch 22/100\n",
      "118/118 [==============================] - 21s 176ms/step - loss: 0.0121 - val_loss: 0.0079\n",
      "Epoch 23/100\n",
      "118/118 [==============================] - 21s 176ms/step - loss: 0.0076 - val_loss: 0.0031\n",
      "Epoch 24/100\n",
      "118/118 [==============================] - 21s 178ms/step - loss: 0.0196 - val_loss: 0.0037\n",
      "Epoch 25/100\n",
      "118/118 [==============================] - 21s 176ms/step - loss: 0.0168 - val_loss: 0.0053\n",
      "Epoch 26/100\n",
      "118/118 [==============================] - 21s 175ms/step - loss: 0.0127 - val_loss: 0.0256\n",
      "Epoch 27/100\n",
      "118/118 [==============================] - 21s 175ms/step - loss: 0.0120 - val_loss: 0.0119\n",
      "Epoch 28/100\n",
      "118/118 [==============================] - 21s 176ms/step - loss: 0.0100 - val_loss: 0.0159\n",
      "Epoch 29/100\n",
      "118/118 [==============================] - 21s 176ms/step - loss: 0.0129 - val_loss: 0.0154\n",
      "Epoch 30/100\n",
      "118/118 [==============================] - 21s 176ms/step - loss: 0.0124 - val_loss: 0.0041\n",
      "Epoch 31/100\n",
      "118/118 [==============================] - 21s 178ms/step - loss: 0.0102 - val_loss: 0.0026\n",
      "Epoch 32/100\n",
      "118/118 [==============================] - 22s 178ms/step - loss: 0.0064 - val_loss: 0.0033\n",
      "Epoch 33/100\n",
      "118/118 [==============================] - 21s 176ms/step - loss: 0.0055 - val_loss: 0.0040\n",
      "Epoch 34/100\n",
      "118/118 [==============================] - 21s 176ms/step - loss: 0.0059 - val_loss: 0.0021\n",
      "Epoch 35/100\n",
      "118/118 [==============================] - 21s 177ms/step - loss: 0.0089 - val_loss: 0.0027\n",
      "Epoch 36/100\n",
      "118/118 [==============================] - 21s 176ms/step - loss: 0.0064 - val_loss: 0.0054\n",
      "Epoch 37/100\n",
      "118/118 [==============================] - 21s 175ms/step - loss: 0.0051 - val_loss: 0.0031\n",
      "Epoch 38/100\n",
      "118/118 [==============================] - 21s 176ms/step - loss: 0.0067 - val_loss: 0.0025\n",
      "Epoch 39/100\n",
      "118/118 [==============================] - 21s 176ms/step - loss: 0.0044 - val_loss: 0.0020\n",
      "Epoch 40/100\n",
      "118/118 [==============================] - 21s 175ms/step - loss: 0.0166 - val_loss: 0.0065\n",
      "Epoch 41/100\n",
      "118/118 [==============================] - 21s 177ms/step - loss: 0.0077 - val_loss: 0.0157\n",
      "Epoch 42/100\n",
      "118/118 [==============================] - 21s 176ms/step - loss: 0.0036 - val_loss: 0.0077\n",
      "Epoch 43/100\n",
      "118/118 [==============================] - 21s 175ms/step - loss: 0.0031 - val_loss: 0.0053\n",
      "Epoch 44/100\n",
      "118/118 [==============================] - 21s 177ms/step - loss: 0.0026 - val_loss: 0.0018\n",
      "Epoch 45/100\n",
      "118/118 [==============================] - 21s 176ms/step - loss: 0.0040 - val_loss: 0.0097\n",
      "Epoch 46/100\n",
      "118/118 [==============================] - 21s 176ms/step - loss: 0.0034 - val_loss: 9.2684e-04\n",
      "Epoch 47/100\n",
      "118/118 [==============================] - 21s 178ms/step - loss: 0.0029 - val_loss: 0.0087\n",
      "Epoch 48/100\n",
      "118/118 [==============================] - 21s 175ms/step - loss: 0.0038 - val_loss: 0.0015\n",
      "Epoch 49/100\n",
      "118/118 [==============================] - 21s 176ms/step - loss: 0.0034 - val_loss: 0.0010\n",
      "Epoch 50/100\n",
      "118/118 [==============================] - 21s 177ms/step - loss: 0.0588 - val_loss: 0.0049\n",
      "Epoch 51/100\n",
      "118/118 [==============================] - 21s 176ms/step - loss: 0.0057 - val_loss: 0.0035\n",
      "Epoch 52/100\n",
      "118/118 [==============================] - 21s 176ms/step - loss: 0.0046 - val_loss: 0.0033\n",
      "Epoch 53/100\n",
      "118/118 [==============================] - 21s 177ms/step - loss: 0.0037 - val_loss: 0.0034\n",
      "Epoch 54/100\n",
      "118/118 [==============================] - 21s 176ms/step - loss: 0.0022 - val_loss: 0.0064\n",
      "Epoch 55/100\n",
      "118/118 [==============================] - 21s 177ms/step - loss: 0.0029 - val_loss: 0.0013\n",
      "Epoch 56/100\n",
      "118/118 [==============================] - 21s 177ms/step - loss: 0.0023 - val_loss: 0.0014\n",
      "Epoch 57/100\n",
      "118/118 [==============================] - 21s 175ms/step - loss: 0.0024 - val_loss: 0.0011\n",
      "Epoch 58/100\n",
      "118/118 [==============================] - 21s 176ms/step - loss: 0.0014 - val_loss: 0.0019\n",
      "Epoch 59/100\n",
      "118/118 [==============================] - 21s 178ms/step - loss: 0.0013 - val_loss: 0.0011\n",
      "Epoch 60/100\n",
      "118/118 [==============================] - 21s 176ms/step - loss: 0.0021 - val_loss: 8.5371e-04\n",
      "Epoch 61/100\n",
      "118/118 [==============================] - 21s 176ms/step - loss: 0.0014 - val_loss: 9.4168e-04\n",
      "Epoch 62/100\n",
      "118/118 [==============================] - 21s 178ms/step - loss: 0.0023 - val_loss: 9.5825e-04\n",
      "Epoch 63/100\n",
      "118/118 [==============================] - 21s 175ms/step - loss: 0.0013 - val_loss: 0.0010\n",
      "Epoch 64/100\n",
      "118/118 [==============================] - 21s 176ms/step - loss: 0.0013 - val_loss: 0.0018\n",
      "Epoch 65/100\n",
      "118/118 [==============================] - 21s 176ms/step - loss: 0.0016 - val_loss: 8.0029e-04\n",
      "Epoch 66/100\n",
      "118/118 [==============================] - 21s 176ms/step - loss: 0.0012 - val_loss: 8.5403e-04\n",
      "Epoch 67/100\n",
      "118/118 [==============================] - 21s 177ms/step - loss: 0.0012 - val_loss: 8.8276e-04\n",
      "Epoch 68/100\n",
      "118/118 [==============================] - 21s 177ms/step - loss: 0.0034 - val_loss: 0.0077\n",
      "Epoch 69/100\n",
      "118/118 [==============================] - 21s 175ms/step - loss: 0.0016 - val_loss: 9.2317e-04\n",
      "Epoch 70/100\n",
      "118/118 [==============================] - 21s 177ms/step - loss: 0.0012 - val_loss: 4.9346e-04\n",
      "Epoch 71/100\n",
      "118/118 [==============================] - 21s 176ms/step - loss: 0.0015 - val_loss: 5.5561e-04\n",
      "Epoch 72/100\n",
      "118/118 [==============================] - 21s 175ms/step - loss: 0.0015 - val_loss: 0.0014\n",
      "Epoch 73/100\n",
      "118/118 [==============================] - 21s 176ms/step - loss: 0.0013 - val_loss: 0.0017\n",
      "Epoch 74/100\n",
      "118/118 [==============================] - 21s 176ms/step - loss: 0.0013 - val_loss: 0.0010\n",
      "Epoch 75/100\n",
      "118/118 [==============================] - 21s 176ms/step - loss: 8.9137e-04 - val_loss: 9.6719e-04\n",
      "Epoch 76/100\n",
      "118/118 [==============================] - 21s 177ms/step - loss: 0.0013 - val_loss: 6.1696e-04\n",
      "Epoch 77/100\n",
      "118/118 [==============================] - 21s 176ms/step - loss: 0.0010 - val_loss: 0.0017\n",
      "Epoch 78/100\n",
      "118/118 [==============================] - 21s 175ms/step - loss: 0.0011 - val_loss: 6.9767e-04\n",
      "Epoch 79/100\n",
      "118/118 [==============================] - 21s 176ms/step - loss: 0.0013 - val_loss: 0.0010\n",
      "Epoch 80/100\n",
      "118/118 [==============================] - 21s 176ms/step - loss: 0.0015 - val_loss: 8.0231e-04\n",
      "Epoch 81/100\n",
      "118/118 [==============================] - 21s 175ms/step - loss: 0.0010 - val_loss: 6.3665e-04\n",
      "Epoch 82/100\n",
      "118/118 [==============================] - 21s 176ms/step - loss: 0.0014 - val_loss: 0.0014\n",
      "Epoch 83/100\n",
      "118/118 [==============================] - 21s 176ms/step - loss: 0.0014 - val_loss: 0.0013\n",
      "Epoch 84/100\n",
      "118/118 [==============================] - 21s 176ms/step - loss: 0.0015 - val_loss: 0.0027\n",
      "Epoch 85/100\n",
      "118/118 [==============================] - 21s 178ms/step - loss: 0.0013 - val_loss: 9.4742e-04\n",
      "Epoch 86/100\n",
      "118/118 [==============================] - 21s 177ms/step - loss: 0.0016 - val_loss: 0.0018\n",
      "Epoch 87/100\n",
      "118/118 [==============================] - 21s 176ms/step - loss: 9.8324e-04 - val_loss: 5.7344e-04\n",
      "Epoch 88/100\n",
      "118/118 [==============================] - 21s 177ms/step - loss: 9.2708e-04 - val_loss: 0.0011\n",
      "Epoch 89/100\n",
      "118/118 [==============================] - 21s 177ms/step - loss: 9.8302e-04 - val_loss: 5.9227e-04\n",
      "Epoch 90/100\n",
      "118/118 [==============================] - 21s 175ms/step - loss: 0.0012 - val_loss: 0.0046\n",
      "Epoch 91/100\n",
      "118/118 [==============================] - 21s 176ms/step - loss: 0.0015 - val_loss: 0.0026\n",
      "Epoch 92/100\n",
      "118/118 [==============================] - 21s 176ms/step - loss: 0.0012 - val_loss: 0.0027\n",
      "Epoch 93/100\n",
      "118/118 [==============================] - 21s 176ms/step - loss: 8.9733e-04 - val_loss: 6.2743e-04\n",
      "Epoch 94/100\n",
      "118/118 [==============================] - 21s 176ms/step - loss: 8.6370e-04 - val_loss: 5.7653e-04\n",
      "Epoch 95/100\n",
      "118/118 [==============================] - 21s 176ms/step - loss: 6.3888e-04 - val_loss: 0.0013\n",
      "Epoch 96/100\n",
      "118/118 [==============================] - 21s 175ms/step - loss: 5.5492e-04 - val_loss: 6.8152e-04\n",
      "Epoch 97/100\n",
      "118/118 [==============================] - 21s 176ms/step - loss: 0.0024 - val_loss: 0.0011\n",
      "Epoch 98/100\n",
      "118/118 [==============================] - 21s 176ms/step - loss: 8.0294e-04 - val_loss: 9.3903e-04\n",
      "Epoch 99/100\n",
      "118/118 [==============================] - 21s 176ms/step - loss: 0.0012 - val_loss: 7.7160e-04\n",
      "Epoch 100/100\n",
      "118/118 [==============================] - 21s 176ms/step - loss: 6.7429e-04 - val_loss: 8.9587e-04\n"
     ]
    }
   ],
   "source": [
    "EPOCHS = 100\n",
    "model_history = model.fit(train_dataset, epochs=EPOCHS,\n",
    "#                           steps_per_epoch=STEPS_PER_EPOCH,\n",
    "#                           validation_steps=128//BATCH_SIZE,\n",
    "                          validation_data=test_dataset,\n",
    "                          callbacks=[model_checkpoint_callback])"
   ]
  },
  {
   "cell_type": "code",
   "execution_count": 21,
   "metadata": {},
   "outputs": [
    {
     "data": {
      "image/png": "[encoded data removed]",
      "text/plain": [
       "<Figure size 432x288 with 1 Axes>"
      ]
     },
     "metadata": {
      "needs_background": "light"
     },
     "output_type": "display_data"
    }
   ],
   "source": [
    "plt.plot(model_history.history['loss'], label='train loss')\n",
    "plt.plot(model_history.history['val_loss'], label='valid loss')\n",
    "plt.legend()\n",
    "plt.ylim(0, 0.03) \n",
    "plt.show()"
   ]
  },
  {
   "cell_type": "code",
   "execution_count": 22,
   "metadata": {},
   "outputs": [
    {
     "data": {
      "text/plain": [
       "<tensorflow.python.training.tracking.util.CheckpointLoadStatus at 0x1873ea8a880>"
      ]
     },
     "execution_count": 22,
     "metadata": {},
     "output_type": "execute_result"
    }
   ],
   "source": [
    "model.load_weights(checkpoint_filepath)\n",
    "# model.save(str(numm) + 'grapevine_' + str(validnum) + '.h5') "
   ]
  },
  {
   "cell_type": "code",
   "execution_count": 23,
   "metadata": {},
   "outputs": [],
   "source": [
    "def save_predictions():\n",
    "    names = []\n",
    "    preds = []\n",
    "    files = glob(point_path + 'test\\\\' + '*.png')\n",
    "    for file in files:\n",
    "        name = list(file.split('\\\\'))[-1]\n",
    "        names.append(name)\n",
    "#         print(name)\n",
    "        picture = tf.io.read_file(RGBD_path + name)\n",
    "        picture = tf.image.decode_png(picture)\n",
    "        picture = tf.cast(picture, tf.float32)\n",
    "#         picture = tf.image.resize(picture, [256, 256],method=tf.image.ResizeMethod.NEAREST_NEIGHBOR)\n",
    "        input_pic = np.reshape(picture, (1,256,256,3))/255.0#这里要改\n",
    "        prediction = model.predict(input_pic)#255here\n",
    "#         print(prediction*30+70)\n",
    "        preds.append(prediction[0][0]*25+75)\n",
    "    df = pd.DataFrame({'PicName':names, 'Prediction':preds})\n",
    "    df.to_excel('2Density_pred'+str(validnum) + '.xlsx')\n",
    "#         cv2.imwrite('prediction_den_pics1\\\\' + name, prediction*255)"
   ]
  },
  {
   "cell_type": "code",
   "execution_count": 24,
   "metadata": {},
   "outputs": [],
   "source": [
    "# start = time.time()\n",
    "save_predictions()\n",
    "# end = time.time()\n",
    "# print(end - start)"
   ]
  },
  {
   "cell_type": "code",
   "execution_count": 25,
   "metadata": {},
   "outputs": [],
   "source": [
    "# files = glob('prediction_pics1\\\\*.png')\n",
    "# for file in files:\n",
    "#     name = list(file.split('\\\\'))[-1]\n",
    "#     pred = cv2.imread(file, 0)\n",
    "#     print(name, pred)"
   ]
  },
  {
   "cell_type": "code",
   "execution_count": null,
   "metadata": {},
   "outputs": [],
   "source": []
  }
 ],
 "metadata": {
  "kernelspec": {
   "display_name": "Python 3 (ipykernel)",
   "language": "python",
   "name": "python3"
  },
  "language_info": {
   "codemirror_mode": {
    "name": "ipython",
    "version": 3
   },
   "file_extension": ".py",
   "mimetype": "text/x-python",
   "name": "python",
   "nbconvert_exporter": "python",
   "pygments_lexer": "ipython3",
   "version": "3.9.12"
  }
 },
 "nbformat": 4,
 "nbformat_minor": 2
}
