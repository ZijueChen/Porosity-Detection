{
 "cells": [
  {
   "cell_type": "code",
   "execution_count": 3,
   "id": "31227f34",
   "metadata": {},
   "outputs": [],
   "source": [
    "import numpy as np\n",
    "import pandas as pd\n",
    "import matplotlib.pyplot as plt\n",
    "import tensorflow as tf\n",
    "from sklearn.linear_model import LinearRegression"
   ]
  },
  {
   "cell_type": "code",
   "execution_count": 6,
   "id": "38b43717",
   "metadata": {},
   "outputs": [
    {
     "name": "stdout",
     "output_type": "stream",
     "text": [
      "26 26 26\n"
     ]
    }
   ],
   "source": [
    "df = pd.read_excel('clean excel.xlsx')\n",
    "energy = df['Energy Density (J/mm3)'].to_numpy()\n",
    "density = df['Part Density (%)'].to_numpy()\n",
    "X = np.transpose(np.array([df['Scan Speed'], df['Laser Power '], df['Hatch Spacing (um)'], df['Layer Thickness (um)']]))\n",
    "print(len(X),len(energy),len(density))"
   ]
  },
  {
   "cell_type": "code",
   "execution_count": 41,
   "id": "ab1b13e4",
   "metadata": {
    "scrolled": true
   },
   "outputs": [
    {
     "name": "stdout",
     "output_type": "stream",
     "text": [
      "0.42298807963431384\n",
      "[-0.00334464  0.03991249 -0.04753949  0.1300641 ] 91.44455404068326\n"
     ]
    }
   ],
   "source": [
    "target = density\n",
    "reg = LinearRegression().fit(X, target)\n",
    "print(reg.score(X, target))\n",
    "print(reg.coef_, reg.intercept_)"
   ]
  },
  {
   "cell_type": "code",
   "execution_count": 24,
   "id": "2005356d",
   "metadata": {},
   "outputs": [],
   "source": [
    "checkpoint_filepath = 'weights_checkpoints/2_0'\n",
    "model_checkpoint_callback = tf.keras.callbacks.ModelCheckpoint(\n",
    "    filepath=checkpoint_filepath,\n",
    "    save_weights_only=True,\n",
    "    monitor='val_loss',\n",
    "    mode='min',\n",
    "    save_best_only=True)"
   ]
  },
  {
   "cell_type": "code",
   "execution_count": 37,
   "id": "eda629ba",
   "metadata": {
    "scrolled": true
   },
   "outputs": [
    {
     "name": "stdout",
     "output_type": "stream",
     "text": [
      "Epoch 1/100\n",
      "1/1 [==============================] - 0s 244ms/step - loss: 16173.1592 - val_loss: 9550.8555\n",
      "Epoch 2/100\n",
      "1/1 [==============================] - 0s 16ms/step - loss: 9820.4854 - val_loss: 5278.1006\n",
      "Epoch 3/100\n",
      "1/1 [==============================] - 0s 16ms/step - loss: 5214.6177 - val_loss: 2409.6501\n",
      "Epoch 4/100\n",
      "1/1 [==============================] - 0s 16ms/step - loss: 2250.4846 - val_loss: 737.7260\n",
      "Epoch 5/100\n",
      "1/1 [==============================] - 0s 15ms/step - loss: 762.0296 - val_loss: 109.7154\n",
      "Epoch 6/100\n",
      "1/1 [==============================] - 0s 15ms/step - loss: 424.1081 - val_loss: 199.0607\n",
      "Epoch 7/100\n",
      "1/1 [==============================] - 0s 15ms/step - loss: 816.8999 - val_loss: 594.2518\n",
      "Epoch 8/100\n",
      "1/1 [==============================] - 0s 14ms/step - loss: 1504.6476 - val_loss: 973.8359\n",
      "Epoch 9/100\n",
      "1/1 [==============================] - 0s 16ms/step - loss: 2106.1438 - val_loss: 1183.3430\n",
      "Epoch 10/100\n",
      "1/1 [==============================] - 0s 13ms/step - loss: 2428.1694 - val_loss: 1193.8363\n",
      "Epoch 11/100\n",
      "1/1 [==============================] - 0s 14ms/step - loss: 2444.6870 - val_loss: 1027.7977\n",
      "Epoch 12/100\n",
      "1/1 [==============================] - 0s 16ms/step - loss: 2197.3430 - val_loss: 769.2078\n",
      "Epoch 13/100\n",
      "1/1 [==============================] - 0s 16ms/step - loss: 1800.8867 - val_loss: 496.6600\n",
      "Epoch 14/100\n",
      "1/1 [==============================] - 0s 16ms/step - loss: 1356.0500 - val_loss: 261.4792\n",
      "Epoch 15/100\n",
      "1/1 [==============================] - 0s 16ms/step - loss: 960.9331 - val_loss: 111.0137\n",
      "Epoch 16/100\n",
      "1/1 [==============================] - 0s 15ms/step - loss: 661.0485 - val_loss: 59.8959\n",
      "Epoch 17/100\n",
      "1/1 [==============================] - 0s 16ms/step - loss: 475.3395 - val_loss: 104.4911\n",
      "Epoch 18/100\n",
      "1/1 [==============================] - 0s 15ms/step - loss: 405.0435 - val_loss: 220.0697\n",
      "Epoch 19/100\n",
      "1/1 [==============================] - 0s 15ms/step - loss: 433.7013 - val_loss: 373.7986\n",
      "Epoch 20/100\n",
      "1/1 [==============================] - 0s 15ms/step - loss: 528.3109 - val_loss: 529.4326\n",
      "Epoch 21/100\n",
      "1/1 [==============================] - 0s 16ms/step - loss: 647.5734 - val_loss: 658.5580\n",
      "Epoch 22/100\n",
      "1/1 [==============================] - 0s 15ms/step - loss: 756.8511 - val_loss: 737.8306\n",
      "Epoch 23/100\n",
      "1/1 [==============================] - 0s 15ms/step - loss: 827.0495 - val_loss: 752.5597\n",
      "Epoch 24/100\n",
      "1/1 [==============================] - 0s 15ms/step - loss: 844.5832 - val_loss: 704.2997\n",
      "Epoch 25/100\n",
      "1/1 [==============================] - 0s 15ms/step - loss: 805.9788 - val_loss: 616.9462\n",
      "Epoch 26/100\n",
      "1/1 [==============================] - 0s 16ms/step - loss: 728.5693 - val_loss: 497.1754\n",
      "Epoch 27/100\n",
      "1/1 [==============================] - 0s 16ms/step - loss: 626.4333 - val_loss: 371.4569\n",
      "Epoch 28/100\n",
      "1/1 [==============================] - 0s 14ms/step - loss: 523.8627 - val_loss: 255.8793\n",
      "Epoch 29/100\n",
      "1/1 [==============================] - 0s 16ms/step - loss: 436.3039 - val_loss: 160.7409\n",
      "Epoch 30/100\n",
      "1/1 [==============================] - 0s 15ms/step - loss: 376.8877 - val_loss: 95.1452\n",
      "Epoch 31/100\n",
      "1/1 [==============================] - 0s 15ms/step - loss: 351.4032 - val_loss: 58.8827\n",
      "Epoch 32/100\n",
      "1/1 [==============================] - 0s 16ms/step - loss: 356.0468 - val_loss: 46.1108\n",
      "Epoch 33/100\n",
      "1/1 [==============================] - 0s 13ms/step - loss: 381.4096 - val_loss: 48.2181\n",
      "Epoch 34/100\n",
      "1/1 [==============================] - 0s 16ms/step - loss: 414.4745 - val_loss: 56.3513\n",
      "Epoch 35/100\n",
      "1/1 [==============================] - 0s 15ms/step - loss: 443.4279 - val_loss: 61.4573\n",
      "Epoch 36/100\n",
      "1/1 [==============================] - 0s 15ms/step - loss: 457.0439 - val_loss: 60.1836\n",
      "Epoch 37/100\n",
      "1/1 [==============================] - 0s 15ms/step - loss: 452.7708 - val_loss: 52.2315\n",
      "Epoch 38/100\n",
      "1/1 [==============================] - 0s 17ms/step - loss: 428.4320 - val_loss: 40.7427\n",
      "Epoch 39/100\n",
      "1/1 [==============================] - 0s 16ms/step - loss: 395.3764 - val_loss: 29.8820\n",
      "Epoch 40/100\n",
      "1/1 [==============================] - 0s 15ms/step - loss: 357.4468 - val_loss: 24.0759\n",
      "Epoch 41/100\n",
      "1/1 [==============================] - 0s 16ms/step - loss: 324.1861 - val_loss: 26.2472\n",
      "Epoch 42/100\n",
      "1/1 [==============================] - 0s 16ms/step - loss: 301.0308 - val_loss: 35.9875\n",
      "Epoch 43/100\n",
      "1/1 [==============================] - 0s 17ms/step - loss: 289.6760 - val_loss: 51.6702\n",
      "Epoch 44/100\n",
      "1/1 [==============================] - 0s 15ms/step - loss: 288.9918 - val_loss: 68.2244\n",
      "Epoch 45/100\n",
      "1/1 [==============================] - 0s 14ms/step - loss: 294.9850 - val_loss: 81.8354\n",
      "Epoch 46/100\n",
      "1/1 [==============================] - 0s 16ms/step - loss: 302.4905 - val_loss: 89.7813\n",
      "Epoch 47/100\n",
      "1/1 [==============================] - 0s 17ms/step - loss: 307.6413 - val_loss: 89.6234\n",
      "Epoch 48/100\n",
      "1/1 [==============================] - 0s 15ms/step - loss: 306.2162 - val_loss: 80.7919\n",
      "Epoch 49/100\n",
      "1/1 [==============================] - 0s 15ms/step - loss: 298.6445 - val_loss: 66.1952\n",
      "Epoch 50/100\n",
      "1/1 [==============================] - 0s 15ms/step - loss: 285.5019 - val_loss: 48.2919\n",
      "Epoch 51/100\n",
      "1/1 [==============================] - 0s 16ms/step - loss: 271.0211 - val_loss: 31.2455\n",
      "Epoch 52/100\n",
      "1/1 [==============================] - 0s 16ms/step - loss: 257.7039 - val_loss: 16.4872\n",
      "Epoch 53/100\n",
      "1/1 [==============================] - 0s 16ms/step - loss: 248.5026 - val_loss: 6.5505\n",
      "Epoch 54/100\n",
      "1/1 [==============================] - 0s 16ms/step - loss: 244.0314 - val_loss: 1.6684\n",
      "Epoch 55/100\n",
      "1/1 [==============================] - 0s 14ms/step - loss: 243.7685 - val_loss: 0.5006\n",
      "Epoch 56/100\n",
      "1/1 [==============================] - 0s 16ms/step - loss: 246.1459 - val_loss: 1.3322\n",
      "Epoch 57/100\n",
      "1/1 [==============================] - 0s 16ms/step - loss: 248.0640 - val_loss: 2.4199\n",
      "Epoch 58/100\n",
      "1/1 [==============================] - 0s 16ms/step - loss: 248.1854 - val_loss: 2.6289\n",
      "Epoch 59/100\n",
      "1/1 [==============================] - 0s 16ms/step - loss: 244.9338 - val_loss: 1.8514\n",
      "Epoch 60/100\n",
      "1/1 [==============================] - 0s 16ms/step - loss: 239.0114 - val_loss: 0.7401\n",
      "Epoch 61/100\n",
      "1/1 [==============================] - 0s 18ms/step - loss: 232.2616 - val_loss: 0.4789\n",
      "Epoch 62/100\n",
      "1/1 [==============================] - 0s 15ms/step - loss: 225.7653 - val_loss: 1.4781\n",
      "Epoch 63/100\n",
      "1/1 [==============================] - 0s 15ms/step - loss: 221.0533 - val_loss: 3.8384\n",
      "Epoch 64/100\n",
      "1/1 [==============================] - 0s 14ms/step - loss: 218.5330 - val_loss: 7.0447\n",
      "Epoch 65/100\n",
      "1/1 [==============================] - 0s 17ms/step - loss: 218.1344 - val_loss: 9.9644\n",
      "Epoch 66/100\n",
      "1/1 [==============================] - 0s 14ms/step - loss: 218.3670 - val_loss: 12.3551\n",
      "Epoch 67/100\n",
      "1/1 [==============================] - 0s 14ms/step - loss: 218.7510 - val_loss: 12.5758\n",
      "Epoch 68/100\n",
      "1/1 [==============================] - 0s 17ms/step - loss: 217.7874 - val_loss: 11.5933\n",
      "Epoch 69/100\n",
      "1/1 [==============================] - 0s 16ms/step - loss: 216.0034 - val_loss: 9.7496\n",
      "Epoch 70/100\n",
      "1/1 [==============================] - 0s 15ms/step - loss: 213.1668 - val_loss: 7.8783\n",
      "Epoch 71/100\n",
      "1/1 [==============================] - 0s 15ms/step - loss: 210.5222 - val_loss: 6.9531\n",
      "Epoch 72/100\n",
      "1/1 [==============================] - 0s 19ms/step - loss: 208.4566 - val_loss: 6.9698\n",
      "Epoch 73/100\n",
      "1/1 [==============================] - 0s 15ms/step - loss: 207.3571 - val_loss: 7.8789\n",
      "Epoch 74/100\n",
      "1/1 [==============================] - 0s 13ms/step - loss: 207.0614 - val_loss: 9.5883\n",
      "Epoch 75/100\n",
      "1/1 [==============================] - 0s 15ms/step - loss: 207.1574 - val_loss: 11.0053\n",
      "Epoch 76/100\n",
      "1/1 [==============================] - 0s 15ms/step - loss: 207.0890 - val_loss: 12.1074\n",
      "Epoch 77/100\n",
      "1/1 [==============================] - 0s 16ms/step - loss: 206.4779 - val_loss: 12.5780\n",
      "Epoch 78/100\n",
      "1/1 [==============================] - 0s 16ms/step - loss: 205.2566 - val_loss: 12.7058\n",
      "Epoch 79/100\n",
      "1/1 [==============================] - 0s 15ms/step - loss: 203.8207 - val_loss: 12.6759\n",
      "Epoch 80/100\n",
      "1/1 [==============================] - 0s 14ms/step - loss: 202.4137 - val_loss: 12.6461\n",
      "Epoch 81/100\n",
      "1/1 [==============================] - 0s 16ms/step - loss: 201.5433 - val_loss: 13.0926\n",
      "Epoch 82/100\n",
      "1/1 [==============================] - 0s 18ms/step - loss: 201.1036 - val_loss: 13.5754\n",
      "Epoch 83/100\n",
      "1/1 [==============================] - 0s 15ms/step - loss: 200.8986 - val_loss: 13.8937\n",
      "Epoch 84/100\n",
      "1/1 [==============================] - 0s 15ms/step - loss: 200.6796 - val_loss: 14.5881\n",
      "Epoch 85/100\n",
      "1/1 [==============================] - 0s 15ms/step - loss: 200.3425 - val_loss: 15.3178\n",
      "Epoch 86/100\n",
      "1/1 [==============================] - 0s 15ms/step - loss: 199.7822 - val_loss: 15.8661\n",
      "Epoch 87/100\n",
      "1/1 [==============================] - 0s 15ms/step - loss: 199.0121 - val_loss: 16.4372\n",
      "Epoch 88/100\n",
      "1/1 [==============================] - 0s 15ms/step - loss: 198.2616 - val_loss: 17.2820\n",
      "Epoch 89/100\n",
      "1/1 [==============================] - 0s 17ms/step - loss: 197.6342 - val_loss: 18.1983\n",
      "Epoch 90/100\n",
      "1/1 [==============================] - 0s 14ms/step - loss: 197.1978 - val_loss: 19.1337\n",
      "Epoch 91/100\n",
      "1/1 [==============================] - 0s 14ms/step - loss: 196.9431 - val_loss: 20.0545\n",
      "Epoch 92/100\n",
      "1/1 [==============================] - 0s 19ms/step - loss: 196.6914 - val_loss: 20.6070\n",
      "Epoch 93/100\n",
      "1/1 [==============================] - 0s 14ms/step - loss: 196.3852 - val_loss: 21.0643\n",
      "Epoch 94/100\n",
      "1/1 [==============================] - 0s 15ms/step - loss: 195.9336 - val_loss: 20.9906\n",
      "Epoch 95/100\n",
      "1/1 [==============================] - 0s 14ms/step - loss: 195.4050 - val_loss: 20.9408\n",
      "Epoch 96/100\n",
      "1/1 [==============================] - 0s 17ms/step - loss: 194.8662 - val_loss: 20.8351\n",
      "Epoch 97/100\n",
      "1/1 [==============================] - 0s 15ms/step - loss: 194.4008 - val_loss: 20.7833\n",
      "Epoch 98/100\n",
      "1/1 [==============================] - 0s 17ms/step - loss: 193.9924 - val_loss: 20.8832\n",
      "Epoch 99/100\n",
      "1/1 [==============================] - 0s 15ms/step - loss: 193.6796 - val_loss: 20.8464\n",
      "Epoch 100/100\n",
      "1/1 [==============================] - 0s 15ms/step - loss: 193.3657 - val_loss: 21.2441\n"
     ]
    }
   ],
   "source": [
    "target = density\n",
    "model = tf.keras.models.Sequential([tf.keras.layers.Dense(128, input_shape=(4,), activation='relu'),\n",
    "                                    tf.keras.layers.Dense(32, activation='relu'),\n",
    "                                    tf.keras.layers.Dense(1)\n",
    "])\n",
    "\n",
    "opt = tf.keras.optimizers.Adam(0.001)\n",
    "model.compile(optimizer=opt, loss='mse')\n",
    "r = model.fit(X[:-2], target[:-2], epochs=100,\n",
    "             validation_data=(X[-2:], target[-2:]),\n",
    "             callbacks=[model_checkpoint_callback])"
   ]
  },
  {
   "cell_type": "code",
   "execution_count": 38,
   "id": "bf3e8211",
   "metadata": {},
   "outputs": [
    {
     "name": "stdout",
     "output_type": "stream",
     "text": [
      "Prediction: [[ 90.005455]\n",
      " [ 93.29315 ]\n",
      " [102.29036 ]\n",
      " [ 98.75225 ]\n",
      " [100.59254 ]\n",
      " [ 91.8301  ]]\n",
      "GT: [91.976 99.982 99.792 99.956 99.852 92.47 ]\n"
     ]
    }
   ],
   "source": [
    "model.load_weights(checkpoint_filepath)\n",
    "print('Prediction:',model.predict(X[-6:]))\n",
    "print('GT:',target[-6:])"
   ]
  },
  {
   "cell_type": "code",
   "execution_count": 39,
   "id": "b8f0ccb6",
   "metadata": {},
   "outputs": [
    {
     "data": {
      "image/png": "[encoded data removed]",
      "text/plain": [
       "<Figure size 432x288 with 1 Axes>"
      ]
     },
     "metadata": {
      "needs_background": "light"
     },
     "output_type": "display_data"
    }
   ],
   "source": [
    "plt.plot(r.history['loss'], label='train loss')\n",
    "plt.plot(r.history['val_loss'], label='valid loss')\n",
    "plt.legend()\n",
    "plt.ylim(0, 5000) \n",
    "plt.show()"
   ]
  },
  {
   "cell_type": "code",
   "execution_count": 40,
   "id": "7c1e25a3",
   "metadata": {},
   "outputs": [
    {
     "name": "stdout",
     "output_type": "stream",
     "text": [
      "[99.908  96.268  99.625  92.7525 91.456  99.952  99.596  78.888  99.98\n",
      " 99.744  99.99   99.97   87.958  99.836  97.406  99.698  93.63   97.318\n",
      " 99.836  99.698  91.976  99.982  99.792  99.956  99.852  92.47  ]\n"
     ]
    }
   ],
   "source": [
    "print(target)"
   ]
  },
  {
   "cell_type": "code",
   "execution_count": null,
   "id": "b1e0fd4f",
   "metadata": {},
   "outputs": [],
   "source": []
  },
  {
   "cell_type": "code",
   "execution_count": 5,
   "id": "e0c0ecd0",
   "metadata": {},
   "outputs": [],
   "source": [
    "# X = np.array([[230,1200,90], [280,1200,90], [255,1719.6,90], \n",
    "#               [255,1373.22,122.66],[180,1200,90],[205,680.4,90],\n",
    "#               [205,1026.78,57.34],[255,680.4,90],[255,1026.78,57.34],\n",
    "#               [205,1719.6,90],[230,1546.44,57.34],[205,1373.22,122.66],\n",
    "#               [230,853.56,122.66]])\n",
    "\n",
    "# y = np.array([0.186,0.436,1.345,3.477,2.935,0.011,0.004,0.16,0.039,10.948,0.062,4.452,0.279])"
   ]
  },
  {
   "cell_type": "code",
   "execution_count": 38,
   "id": "e9a614fd",
   "metadata": {},
   "outputs": [
    {
     "name": "stdout",
     "output_type": "stream",
     "text": [
      "0.8953235804119074\n",
      "[-1.50924198e-01  1.35299387e-02 -3.43458560e-01  5.99800000e-04\n",
      "  9.46398115e-06  3.57790726e-04 -1.87682833e-04  6.86173311e-04\n",
      "  1.35488869e-04] 24.282128377570633\n"
     ]
    }
   ],
   "source": [
    "# Linear Regression SKLEARN\n",
    "df = pd.read_excel('Book1.xlsx')\n",
    "x = np.array([np.array(df['P (W)']),np.array(df['v (mm/s)']),\n",
    "             np.array(df['h (um)']),np.array(df['P2']),np.array(df['V2']),\n",
    "             np.array(df['H2']),np.array(df['PV']),np.array(df['PH']),\n",
    "             np.array(df['VH']),\n",
    "             ]).transpose()\n",
    "reg = LinearRegression().fit(x, y)\n",
    "print(reg.score(x, y))\n",
    "print(reg.coef_, reg.intercept_)"
   ]
  },
  {
   "cell_type": "code",
   "execution_count": 18,
   "id": "72a99bcc",
   "metadata": {},
   "outputs": [
    {
     "data": {
      "text/plain": [
       "array([1.8600e-01, 4.3600e-01, 1.3450e+00, 3.4770e+00, 2.9350e+00,\n",
       "       1.1000e-02, 4.0000e-03, 1.6000e-01, 3.9000e-02, 1.0948e+01,\n",
       "       6.2000e-02, 4.4520e+00, 2.7900e-01])"
      ]
     },
     "execution_count": 18,
     "metadata": {},
     "output_type": "execute_result"
    }
   ],
   "source": [
    "y"
   ]
  },
  {
   "cell_type": "code",
   "execution_count": null,
   "id": "cc42aaac",
   "metadata": {},
   "outputs": [],
   "source": []
  }
 ],
 "metadata": {
  "kernelspec": {
   "display_name": "Python 3 (ipykernel)",
   "language": "python",
   "name": "python3"
  },
  "language_info": {
   "codemirror_mode": {
    "name": "ipython",
    "version": 3
   },
   "file_extension": ".py",
   "mimetype": "text/x-python",
   "name": "python",
   "nbconvert_exporter": "python",
   "pygments_lexer": "ipython3",
   "version": "3.9.12"
  }
 },
 "nbformat": 4,
 "nbformat_minor": 5
}
