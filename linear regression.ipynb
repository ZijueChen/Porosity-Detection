{
 "cells": [
  {
   "cell_type": "code",
   "execution_count": 1,
   "id": "31227f34",
   "metadata": {},
   "outputs": [],
   "source": [
    "import numpy as np\n",
    "import pandas as pd\n",
    "import matplotlib.pyplot as plt\n",
    "import tensorflow as tf\n",
    "from sklearn.linear_model import LinearRegression"
   ]
  },
  {
   "cell_type": "code",
   "execution_count": 46,
   "id": "38b43717",
   "metadata": {},
   "outputs": [
    {
     "name": "stdout",
     "output_type": "stream",
     "text": [
      "42 42 42\n"
     ]
    }
   ],
   "source": [
    "df = pd.read_excel('clean excel.xlsx')\n",
    "energy = df['Energy Density (J/mm3)'].to_numpy()\n",
    "density = df['Part Density (%)'].to_numpy()\n",
    "X = np.transpose(np.array([df['Scan Speed'], df['Laser Power '], df['Hatch Spacing (um)']]))\n",
    "print(len(X),len(energy),len(density))"
   ]
  },
  {
   "cell_type": "code",
   "execution_count": 48,
   "id": "ab1b13e4",
   "metadata": {},
   "outputs": [
    {
     "name": "stdout",
     "output_type": "stream",
     "text": [
      "0.28929102473054535\n",
      "[-0.0016412   0.02558769 -0.04219382] 98.12426992944951\n"
     ]
    }
   ],
   "source": [
    "target = energy\n",
    "reg = LinearRegression().fit(X, target)\n",
    "print(reg.score(X, target))\n",
    "print(reg.coef_, reg.intercept_)"
   ]
  },
  {
   "cell_type": "code",
   "execution_count": 55,
   "id": "eda629ba",
   "metadata": {},
   "outputs": [
    {
     "name": "stdout",
     "output_type": "stream",
     "text": [
      "Epoch 1/100\n",
      "2/2 [==============================] - 0s 68ms/step - loss: 16223.2158 - val_loss: 11186.4004\n",
      "Epoch 2/100\n",
      "2/2 [==============================] - 0s 15ms/step - loss: 9242.7979 - val_loss: 5184.9736\n",
      "Epoch 3/100\n",
      "2/2 [==============================] - 0s 14ms/step - loss: 11577.3154 - val_loss: 2526.3628\n",
      "Epoch 4/100\n",
      "2/2 [==============================] - 0s 23ms/step - loss: 4393.4541 - val_loss: 3541.3757\n",
      "Epoch 5/100\n",
      "2/2 [==============================] - 0s 18ms/step - loss: 3303.9316 - val_loss: 7259.9629\n",
      "Epoch 6/100\n",
      "2/2 [==============================] - 0s 25ms/step - loss: 6961.1118 - val_loss: 3727.5618\n",
      "Epoch 7/100\n",
      "2/2 [==============================] - 0s 14ms/step - loss: 2707.2019 - val_loss: 1366.3981\n",
      "Epoch 8/100\n",
      "2/2 [==============================] - 0s 15ms/step - loss: 1664.5785 - val_loss: 1936.6490\n",
      "Epoch 9/100\n",
      "2/2 [==============================] - 0s 25ms/step - loss: 3863.0266 - val_loss: 1963.0858\n",
      "Epoch 10/100\n",
      "2/2 [==============================] - 0s 14ms/step - loss: 3667.5073 - val_loss: 1325.1995\n",
      "Epoch 11/100\n",
      "2/2 [==============================] - 0s 19ms/step - loss: 1723.6683 - val_loss: 1527.8192\n",
      "Epoch 12/100\n",
      "2/2 [==============================] - 0s 19ms/step - loss: 1323.4211 - val_loss: 2383.2664\n",
      "Epoch 13/100\n",
      "2/2 [==============================] - 0s 14ms/step - loss: 1985.9519 - val_loss: 2341.3887\n",
      "Epoch 14/100\n",
      "2/2 [==============================] - 0s 14ms/step - loss: 1915.4011 - val_loss: 1488.3845\n",
      "Epoch 15/100\n",
      "2/2 [==============================] - 0s 14ms/step - loss: 1156.9376 - val_loss: 886.1764\n",
      "Epoch 16/100\n",
      "2/2 [==============================] - 0s 19ms/step - loss: 1073.3889 - val_loss: 809.9546\n",
      "Epoch 17/100\n",
      "2/2 [==============================] - 0s 19ms/step - loss: 1324.5807 - val_loss: 740.9783\n",
      "Epoch 18/100\n",
      "2/2 [==============================] - 0s 14ms/step - loss: 1145.9690 - val_loss: 764.1621\n",
      "Epoch 19/100\n",
      "2/2 [==============================] - 0s 14ms/step - loss: 894.1512 - val_loss: 964.2172\n",
      "Epoch 20/100\n",
      "2/2 [==============================] - 0s 20ms/step - loss: 945.9867 - val_loss: 1031.0171\n",
      "Epoch 21/100\n",
      "2/2 [==============================] - 0s 13ms/step - loss: 1000.2736 - val_loss: 830.6444\n",
      "Epoch 22/100\n",
      "2/2 [==============================] - 0s 16ms/step - loss: 860.7667 - val_loss: 542.2450\n",
      "Epoch 23/100\n",
      "2/2 [==============================] - 0s 13ms/step - loss: 792.5482 - val_loss: 385.4900\n",
      "Epoch 24/100\n",
      "2/2 [==============================] - 0s 13ms/step - loss: 823.2728 - val_loss: 338.1314\n",
      "Epoch 25/100\n",
      "2/2 [==============================] - 0s 13ms/step - loss: 815.0004 - val_loss: 329.2683\n",
      "Epoch 26/100\n",
      "2/2 [==============================] - 0s 13ms/step - loss: 743.8022 - val_loss: 377.2346\n",
      "Epoch 27/100\n",
      "2/2 [==============================] - 0s 13ms/step - loss: 708.2674 - val_loss: 436.5144\n",
      "Epoch 28/100\n",
      "2/2 [==============================] - 0s 13ms/step - loss: 746.7554 - val_loss: 422.7576\n",
      "Epoch 29/100\n",
      "2/2 [==============================] - 0s 13ms/step - loss: 741.7269 - val_loss: 307.3661\n",
      "Epoch 30/100\n",
      "2/2 [==============================] - 0s 13ms/step - loss: 697.0895 - val_loss: 211.2423\n",
      "Epoch 31/100\n",
      "2/2 [==============================] - 0s 13ms/step - loss: 681.4371 - val_loss: 185.3581\n",
      "Epoch 32/100\n",
      "2/2 [==============================] - 0s 14ms/step - loss: 676.5508 - val_loss: 186.2486\n",
      "Epoch 33/100\n",
      "2/2 [==============================] - 0s 13ms/step - loss: 665.5660 - val_loss: 196.4435\n",
      "Epoch 34/100\n",
      "2/2 [==============================] - 0s 13ms/step - loss: 667.8328 - val_loss: 203.7531\n",
      "Epoch 35/100\n",
      "2/2 [==============================] - 0s 14ms/step - loss: 663.9674 - val_loss: 172.5294\n",
      "Epoch 36/100\n",
      "2/2 [==============================] - 0s 13ms/step - loss: 652.9568 - val_loss: 153.2919\n",
      "Epoch 37/100\n",
      "2/2 [==============================] - 0s 13ms/step - loss: 641.0467 - val_loss: 103.6221\n",
      "Epoch 38/100\n",
      "2/2 [==============================] - 0s 13ms/step - loss: 652.4598 - val_loss: 83.8686\n",
      "Epoch 39/100\n",
      "2/2 [==============================] - 0s 13ms/step - loss: 660.3374 - val_loss: 89.9414\n",
      "Epoch 40/100\n",
      "2/2 [==============================] - 0s 13ms/step - loss: 641.9453 - val_loss: 108.2101\n",
      "Epoch 41/100\n",
      "2/2 [==============================] - 0s 13ms/step - loss: 628.4533 - val_loss: 143.3490\n",
      "Epoch 42/100\n",
      "2/2 [==============================] - 0s 13ms/step - loss: 631.8868 - val_loss: 180.4325\n",
      "Epoch 43/100\n",
      "2/2 [==============================] - 0s 13ms/step - loss: 653.8158 - val_loss: 167.3693\n",
      "Epoch 44/100\n",
      "2/2 [==============================] - 0s 13ms/step - loss: 632.2999 - val_loss: 37.2485\n",
      "Epoch 45/100\n",
      "2/2 [==============================] - 0s 13ms/step - loss: 673.8713 - val_loss: 24.0773\n",
      "Epoch 46/100\n",
      "2/2 [==============================] - 0s 14ms/step - loss: 719.8927 - val_loss: 65.5832\n",
      "Epoch 47/100\n",
      "2/2 [==============================] - 0s 14ms/step - loss: 655.3043 - val_loss: 246.9356\n",
      "Epoch 48/100\n",
      "2/2 [==============================] - 0s 15ms/step - loss: 725.4363 - val_loss: 144.4435\n",
      "Epoch 49/100\n",
      "2/2 [==============================] - 0s 13ms/step - loss: 622.0823 - val_loss: 24.6623\n",
      "Epoch 50/100\n",
      "2/2 [==============================] - 0s 13ms/step - loss: 661.1163 - val_loss: 32.0666\n",
      "Epoch 51/100\n",
      "2/2 [==============================] - 0s 13ms/step - loss: 707.1447 - val_loss: 54.1743\n",
      "Epoch 52/100\n",
      "2/2 [==============================] - 0s 14ms/step - loss: 604.6107 - val_loss: 225.9941\n",
      "Epoch 53/100\n",
      "2/2 [==============================] - 0s 15ms/step - loss: 719.7632 - val_loss: 182.7816\n",
      "Epoch 54/100\n",
      "2/2 [==============================] - 0s 19ms/step - loss: 658.1809 - val_loss: 56.3691\n",
      "Epoch 55/100\n",
      "2/2 [==============================] - 0s 14ms/step - loss: 639.4429 - val_loss: 52.1870\n",
      "Epoch 56/100\n",
      "2/2 [==============================] - 0s 14ms/step - loss: 650.8395 - val_loss: 92.8628\n",
      "Epoch 57/100\n",
      "2/2 [==============================] - 0s 13ms/step - loss: 587.8693 - val_loss: 260.3604\n",
      "Epoch 58/100\n",
      "2/2 [==============================] - 0s 14ms/step - loss: 737.9309 - val_loss: 214.7147\n",
      "Epoch 59/100\n",
      "2/2 [==============================] - 0s 14ms/step - loss: 689.5648 - val_loss: 39.0556\n",
      "Epoch 60/100\n",
      "2/2 [==============================] - 0s 13ms/step - loss: 601.1986 - val_loss: 15.3253\n",
      "Epoch 61/100\n",
      "2/2 [==============================] - 0s 14ms/step - loss: 617.5433 - val_loss: 25.7399\n",
      "Epoch 62/100\n",
      "2/2 [==============================] - 0s 13ms/step - loss: 573.5505 - val_loss: 73.2607\n",
      "Epoch 63/100\n",
      "2/2 [==============================] - 0s 14ms/step - loss: 589.5350 - val_loss: 58.0164\n",
      "Epoch 64/100\n",
      "2/2 [==============================] - 0s 13ms/step - loss: 571.7836 - val_loss: 14.3952\n",
      "Epoch 65/100\n",
      "2/2 [==============================] - 0s 13ms/step - loss: 575.6445 - val_loss: 12.4257\n",
      "Epoch 66/100\n",
      "2/2 [==============================] - 0s 14ms/step - loss: 568.5046 - val_loss: 26.1055\n",
      "Epoch 67/100\n",
      "2/2 [==============================] - 0s 13ms/step - loss: 553.5094 - val_loss: 43.3248\n",
      "Epoch 68/100\n",
      "2/2 [==============================] - 0s 13ms/step - loss: 547.6191 - val_loss: 7.9886\n",
      "Epoch 69/100\n",
      "2/2 [==============================] - 0s 15ms/step - loss: 546.1827 - val_loss: 0.9587\n",
      "Epoch 70/100\n",
      "2/2 [==============================] - 0s 13ms/step - loss: 585.6133 - val_loss: 5.4049\n",
      "Epoch 71/100\n",
      "2/2 [==============================] - 0s 14ms/step - loss: 535.2864 - val_loss: 56.9941\n",
      "Epoch 72/100\n",
      "2/2 [==============================] - 0s 13ms/step - loss: 554.0980 - val_loss: 65.7904\n",
      "Epoch 73/100\n",
      "2/2 [==============================] - 0s 13ms/step - loss: 536.5754 - val_loss: 24.5928\n",
      "Epoch 74/100\n",
      "2/2 [==============================] - 0s 14ms/step - loss: 558.8691 - val_loss: 27.8393\n",
      "Epoch 75/100\n",
      "2/2 [==============================] - 0s 15ms/step - loss: 518.6121 - val_loss: 74.2566\n",
      "Epoch 76/100\n",
      "2/2 [==============================] - 0s 17ms/step - loss: 570.6163 - val_loss: 84.6152\n",
      "Epoch 77/100\n",
      "2/2 [==============================] - 0s 18ms/step - loss: 566.4006 - val_loss: 8.8138\n",
      "Epoch 78/100\n",
      "2/2 [==============================] - 0s 14ms/step - loss: 516.5095 - val_loss: 42.1294\n",
      "Epoch 79/100\n",
      "2/2 [==============================] - 0s 15ms/step - loss: 646.8591 - val_loss: 27.4678\n",
      "Epoch 80/100\n"
     ]
    },
    {
     "name": "stdout",
     "output_type": "stream",
     "text": [
      "2/2 [==============================] - 0s 14ms/step - loss: 607.3785 - val_loss: 12.6079\n",
      "Epoch 81/100\n",
      "2/2 [==============================] - 0s 13ms/step - loss: 524.7931 - val_loss: 36.2523\n",
      "Epoch 82/100\n",
      "2/2 [==============================] - 0s 13ms/step - loss: 498.0156 - val_loss: 65.6171\n",
      "Epoch 83/100\n",
      "2/2 [==============================] - 0s 13ms/step - loss: 547.7415 - val_loss: 90.0135\n",
      "Epoch 84/100\n",
      "2/2 [==============================] - 0s 13ms/step - loss: 581.7775 - val_loss: 103.8657\n",
      "Epoch 85/100\n",
      "2/2 [==============================] - 0s 13ms/step - loss: 529.5110 - val_loss: 107.8393\n",
      "Epoch 86/100\n",
      "2/2 [==============================] - 0s 13ms/step - loss: 531.0294 - val_loss: 78.1401\n",
      "Epoch 87/100\n",
      "2/2 [==============================] - 0s 13ms/step - loss: 504.8289 - val_loss: 70.7180\n",
      "Epoch 88/100\n",
      "2/2 [==============================] - 0s 13ms/step - loss: 522.3322 - val_loss: 35.9073\n",
      "Epoch 89/100\n",
      "2/2 [==============================] - 0s 14ms/step - loss: 507.4323 - val_loss: 11.4745\n",
      "Epoch 90/100\n",
      "2/2 [==============================] - 0s 13ms/step - loss: 515.9633 - val_loss: 12.3564\n",
      "Epoch 91/100\n",
      "2/2 [==============================] - 0s 13ms/step - loss: 528.7444 - val_loss: 17.2048\n",
      "Epoch 92/100\n",
      "2/2 [==============================] - 0s 14ms/step - loss: 493.5758 - val_loss: 66.9191\n",
      "Epoch 93/100\n",
      "2/2 [==============================] - 0s 13ms/step - loss: 498.0038 - val_loss: 135.9210\n",
      "Epoch 94/100\n",
      "2/2 [==============================] - 0s 13ms/step - loss: 542.1632 - val_loss: 145.2118\n",
      "Epoch 95/100\n",
      "2/2 [==============================] - 0s 13ms/step - loss: 524.6498 - val_loss: 160.6323\n",
      "Epoch 96/100\n",
      "2/2 [==============================] - 0s 13ms/step - loss: 543.1493 - val_loss: 130.1459\n",
      "Epoch 97/100\n",
      "2/2 [==============================] - 0s 13ms/step - loss: 490.5637 - val_loss: 172.8972\n",
      "Epoch 98/100\n",
      "2/2 [==============================] - 0s 13ms/step - loss: 604.6309 - val_loss: 154.6745\n",
      "Epoch 99/100\n",
      "2/2 [==============================] - 0s 14ms/step - loss: 578.4586 - val_loss: 70.6515\n",
      "Epoch 100/100\n",
      "2/2 [==============================] - 0s 13ms/step - loss: 499.1178 - val_loss: 56.6077\n"
     ]
    }
   ],
   "source": [
    "target = energy\n",
    "model = tf.keras.models.Sequential([tf.keras.layers.Dense(128, input_shape=(3,), activation='relu'),\n",
    "                                    tf.keras.layers.Dense(32, activation='relu'),\n",
    "                                    tf.keras.layers.Dense(1)\n",
    "])\n",
    "\n",
    "opt = tf.keras.optimizers.Adam(0.01)\n",
    "model.compile(optimizer=opt, loss='mse')\n",
    "r = model.fit(X[:-2], target[:-2], epochs=100,\n",
    "             validation_data=(X[-2:], target[-2:]))"
   ]
  },
  {
   "cell_type": "code",
   "execution_count": 56,
   "id": "b8f0ccb6",
   "metadata": {},
   "outputs": [
    {
     "data": {
      "image/png": "[encoded data removed]",
      "text/plain": [
       "<Figure size 432x288 with 1 Axes>"
      ]
     },
     "metadata": {
      "needs_background": "light"
     },
     "output_type": "display_data"
    }
   ],
   "source": [
    "plt.plot(r.history['loss'], label='train loss')\n",
    "plt.plot(r.history['val_loss'], label='valid loss')\n",
    "plt.legend()\n",
    "# plt.ylim(0, 500) \n",
    "plt.show()"
   ]
  },
  {
   "cell_type": "code",
   "execution_count": 57,
   "id": "1cd72828",
   "metadata": {},
   "outputs": [
    {
     "name": "stdout",
     "output_type": "stream",
     "text": [
      "Prediction: [[ 27.06295]\n",
      " [111.55253]]\n",
      "GT: [ 34.72222222 104.16666667]\n"
     ]
    }
   ],
   "source": [
    "print('Prediction:',model.predict(X[-2:]))\n",
    "print('GT:',target[-2:])"
   ]
  },
  {
   "cell_type": "code",
   "execution_count": 45,
   "id": "7c1e25a3",
   "metadata": {},
   "outputs": [
    {
     "name": "stdout",
     "output_type": "stream",
     "text": [
      "[ 37.03703704  24.69135802  38.79365079  23.21578884  74.07407407\n",
      "  34.10934744  74.80694981  20.46560847  44.88416988  64.65608466\n",
      "  75.4549192   38.6929814   20.88406385  55.55555556  37.03703704\n",
      "  58.19047619  34.82368326 111.1111111   51.16402116 112.2104247\n",
      "  30.6984127   67.32625483  96.98412698 113.1823788   58.0394721\n",
      "  31.32609578]\n"
     ]
    }
   ],
   "source": [
    "print(target)"
   ]
  },
  {
   "cell_type": "code",
   "execution_count": null,
   "id": "b1e0fd4f",
   "metadata": {},
   "outputs": [],
   "source": []
  },
  {
   "cell_type": "code",
   "execution_count": 5,
   "id": "e0c0ecd0",
   "metadata": {},
   "outputs": [],
   "source": [
    "# X = np.array([[230,1200,90], [280,1200,90], [255,1719.6,90], \n",
    "#               [255,1373.22,122.66],[180,1200,90],[205,680.4,90],\n",
    "#               [205,1026.78,57.34],[255,680.4,90],[255,1026.78,57.34],\n",
    "#               [205,1719.6,90],[230,1546.44,57.34],[205,1373.22,122.66],\n",
    "#               [230,853.56,122.66]])\n",
    "\n",
    "# y = np.array([0.186,0.436,1.345,3.477,2.935,0.011,0.004,0.16,0.039,10.948,0.062,4.452,0.279])"
   ]
  },
  {
   "cell_type": "code",
   "execution_count": 38,
   "id": "e9a614fd",
   "metadata": {},
   "outputs": [
    {
     "name": "stdout",
     "output_type": "stream",
     "text": [
      "0.8953235804119074\n",
      "[-1.50924198e-01  1.35299387e-02 -3.43458560e-01  5.99800000e-04\n",
      "  9.46398115e-06  3.57790726e-04 -1.87682833e-04  6.86173311e-04\n",
      "  1.35488869e-04] 24.282128377570633\n"
     ]
    }
   ],
   "source": [
    "# Linear Regression SKLEARN\n",
    "df = pd.read_excel('Book1.xlsx')\n",
    "x = np.array([np.array(df['P (W)']),np.array(df['v (mm/s)']),\n",
    "             np.array(df['h (um)']),np.array(df['P2']),np.array(df['V2']),\n",
    "             np.array(df['H2']),np.array(df['PV']),np.array(df['PH']),\n",
    "             np.array(df['VH']),\n",
    "             ]).transpose()\n",
    "reg = LinearRegression().fit(x, y)\n",
    "print(reg.score(x, y))\n",
    "print(reg.coef_, reg.intercept_)"
   ]
  },
  {
   "cell_type": "code",
   "execution_count": 18,
   "id": "72a99bcc",
   "metadata": {},
   "outputs": [
    {
     "data": {
      "text/plain": [
       "array([1.8600e-01, 4.3600e-01, 1.3450e+00, 3.4770e+00, 2.9350e+00,\n",
       "       1.1000e-02, 4.0000e-03, 1.6000e-01, 3.9000e-02, 1.0948e+01,\n",
       "       6.2000e-02, 4.4520e+00, 2.7900e-01])"
      ]
     },
     "execution_count": 18,
     "metadata": {},
     "output_type": "execute_result"
    }
   ],
   "source": [
    "y"
   ]
  },
  {
   "cell_type": "code",
   "execution_count": null,
   "id": "cc42aaac",
   "metadata": {},
   "outputs": [],
   "source": []
  }
 ],
 "metadata": {
  "kernelspec": {
   "display_name": "Python 3 (ipykernel)",
   "language": "python",
   "name": "python3"
  },
  "language_info": {
   "codemirror_mode": {
    "name": "ipython",
    "version": 3
   },
   "file_extension": ".py",
   "mimetype": "text/x-python",
   "name": "python",
   "nbconvert_exporter": "python",
   "pygments_lexer": "ipython3",
   "version": "3.9.12"
  }
 },
 "nbformat": 4,
 "nbformat_minor": 5
}
