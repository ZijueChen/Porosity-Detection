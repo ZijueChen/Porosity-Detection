{
 "cells": [
  {
   "cell_type": "code",
   "execution_count": 1,
   "id": "34cf97b3",
   "metadata": {},
   "outputs": [],
   "source": [
    "import numpy as np\n",
    "import cv2"
   ]
  },
  {
   "cell_type": "code",
   "execution_count": 2,
   "id": "c6bb9dee",
   "metadata": {},
   "outputs": [],
   "source": [
    "def white_balance(img):\n",
    "    result = cv2.cvtColor(img, cv2.COLOR_BGR2LAB)\n",
    "    avg_a = np.average(result[:, :, 1])\n",
    "    avg_b = np.average(result[:, :, 2])\n",
    "    result[:, :, 1] = result[:, :, 1] - ((avg_a - 128) * (result[:, :, 0] / 255.0) * 1.1)\n",
    "    result[:, :, 2] = result[:, :, 2] - ((avg_b - 128) * (result[:, :, 0] / 255.0) * 1.1)\n",
    "    result = cv2.cvtColor(result, cv2.COLOR_LAB2BGR)\n",
    "    return result"
   ]
  },
  {
   "cell_type": "code",
   "execution_count": 7,
   "id": "fa03eca0",
   "metadata": {},
   "outputs": [
    {
     "name": "stdout",
     "output_type": "stream",
     "text": [
      "(256, 256, 3)\n"
     ]
    },
    {
     "data": {
      "text/plain": [
       "True"
      ]
     },
     "execution_count": 7,
     "metadata": {},
     "output_type": "execute_result"
    }
   ],
   "source": [
    "img = cv2.imread('p2p_target\\\\3s3v 2.5x-0001_2.png')\n",
    "print(img.shape)\n",
    "balanced = white_balance(img)\n",
    "pic = np.concatenate([img, balanced], axis=1)\n",
    "cv2.imwrite('balanced.png', pic)"
   ]
  },
  {
   "cell_type": "code",
   "execution_count": 8,
   "id": "4ae9e1cf",
   "metadata": {},
   "outputs": [
    {
     "ename": "AttributeError",
     "evalue": "module 'cv2' has no attribute 'xphoto'",
     "output_type": "error",
     "traceback": [
      "\u001b[1;31m---------------------------------------------------------------------------\u001b[0m",
      "\u001b[1;31mAttributeError\u001b[0m                            Traceback (most recent call last)",
      "Input \u001b[1;32mIn [8]\u001b[0m, in \u001b[0;36m<cell line: 1>\u001b[1;34m()\u001b[0m\n\u001b[1;32m----> 1\u001b[0m wb \u001b[38;5;241m=\u001b[39m \u001b[43mcv2\u001b[49m\u001b[38;5;241;43m.\u001b[39;49m\u001b[43mxphoto\u001b[49m\u001b[38;5;241m.\u001b[39mcreateGrayworldWB()\n\u001b[0;32m      2\u001b[0m wb\u001b[38;5;241m.\u001b[39msetSaturationThreshold(\u001b[38;5;241m0.99\u001b[39m)\n\u001b[0;32m      3\u001b[0m balanced \u001b[38;5;241m=\u001b[39m wb\u001b[38;5;241m.\u001b[39mbalanceWhite(img)\n",
      "\u001b[1;31mAttributeError\u001b[0m: module 'cv2' has no attribute 'xphoto'"
     ]
    }
   ],
   "source": [
    "wb = cv2.xphoto.createGrayworldWB()\n",
    "wb.setSaturationThreshold(0.99)\n",
    "balanced = wb.balanceWhite(img)\n",
    "pic = np.concatenate([img, balanced], axis=1)\n",
    "cv2.imwrite('balanced.png', pic)"
   ]
  },
  {
   "cell_type": "code",
   "execution_count": null,
   "id": "87b74d75",
   "metadata": {},
   "outputs": [],
   "source": []
  }
 ],
 "metadata": {
  "kernelspec": {
   "display_name": "Python 3 (ipykernel)",
   "language": "python",
   "name": "python3"
  },
  "language_info": {
   "codemirror_mode": {
    "name": "ipython",
    "version": 3
   },
   "file_extension": ".py",
   "mimetype": "text/x-python",
   "name": "python",
   "nbconvert_exporter": "python",
   "pygments_lexer": "ipython3",
   "version": "3.9.12"
  }
 },
 "nbformat": 4,
 "nbformat_minor": 5
}
