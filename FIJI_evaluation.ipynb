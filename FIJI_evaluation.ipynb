{
 "cells": [
  {
   "cell_type": "code",
   "execution_count": 1,
   "id": "b20e47ad",
   "metadata": {},
   "outputs": [],
   "source": [
    "import numpy as np\n",
    "import pandas as pd\n",
    "from glob import glob"
   ]
  },
  {
   "cell_type": "code",
   "execution_count": 2,
   "id": "e26d6eff",
   "metadata": {},
   "outputs": [],
   "source": [
    "# 输入图片的名字找到对应sample在excel里的名字\n",
    "def get_sample_name(name):\n",
    "    if name[1] == 's' or name[0] == 'x' or name[0] == 'y':\n",
    "        folder = list(name.split(' '))[0][:3]\n",
    "        if folder[0] == 'y':\n",
    "            folder = '6s8'\n",
    "        elif folder[0] == 'x':\n",
    "            folder = '3s8'\n",
    "    else:\n",
    "        folder = list(name.split('_'))[0]\n",
    "        if folder[0] != 'R':\n",
    "            folder = 'R' + folder\n",
    "    return folder"
   ]
  },
  {
   "cell_type": "code",
   "execution_count": 18,
   "id": "d21a5dd3",
   "metadata": {},
   "outputs": [],
   "source": [
    "# 输入fiji生成的csv file所在的folder名字 生成总结的pd表格df\n",
    "def get_fiji_summary(folder_name):\n",
    "    files = glob('..\\\\' + folder_name + '\\\\*.csv')\n",
    "    samples = []\n",
    "    pics = []\n",
    "    areas = []\n",
    "    majors = []\n",
    "    minors = []\n",
    "    circs = []\n",
    "    for file in files:\n",
    "        df = pd.read_csv(file)\n",
    "        name = list(list(file.split('\\\\'))[-1].split('.csv'))[0]\n",
    "        sample = get_sample_name(name)\n",
    "        samples=samples+[sample]*len(list(df['Label']))\n",
    "        pics=pics+list(df['Label'])\n",
    "        areas=areas+list(df['Area'])\n",
    "        majors=majors+list(df['Major'])\n",
    "        minors=minors+list(df['Minor'])\n",
    "        circs=circs+list(df['Circ.'])\n",
    "    new_df = pd.DataFrame({'Sample': samples, 'Picture': pics,\n",
    "                          'Area': areas, 'Major': majors,\n",
    "                          'Minor': minors, 'Circularity': circs})\n",
    "    return new_df\n",
    "#     new_df.to_excel('..\\\\' + folder_name + '\\\\summary.csv')"
   ]
  },
  {
   "cell_type": "code",
   "execution_count": 19,
   "id": "b527db63",
   "metadata": {},
   "outputs": [
    {
     "data": {
      "text/html": [
       "<div>\n",
       "<style scoped>\n",
       "    .dataframe tbody tr th:only-of-type {\n",
       "        vertical-align: middle;\n",
       "    }\n",
       "\n",
       "    .dataframe tbody tr th {\n",
       "        vertical-align: top;\n",
       "    }\n",
       "\n",
       "    .dataframe thead th {\n",
       "        text-align: right;\n",
       "    }\n",
       "</style>\n",
       "<table border=\"1\" class=\"dataframe\">\n",
       "  <thead>\n",
       "    <tr style=\"text-align: right;\">\n",
       "      <th></th>\n",
       "      <th>Sample</th>\n",
       "      <th>Picture</th>\n",
       "      <th>Area</th>\n",
       "      <th>Major</th>\n",
       "      <th>Minor</th>\n",
       "      <th>Circularity</th>\n",
       "    </tr>\n",
       "  </thead>\n",
       "  <tbody>\n",
       "    <tr>\n",
       "      <th>0</th>\n",
       "      <td>R11</td>\n",
       "      <td>11_in_2.5x-0001.png</td>\n",
       "      <td>4</td>\n",
       "      <td>3.22</td>\n",
       "      <td>1.58</td>\n",
       "      <td>0.86</td>\n",
       "    </tr>\n",
       "    <tr>\n",
       "      <th>1</th>\n",
       "      <td>R11</td>\n",
       "      <td>11_in_2.5x-0001.png</td>\n",
       "      <td>137</td>\n",
       "      <td>25.40</td>\n",
       "      <td>6.87</td>\n",
       "      <td>0.34</td>\n",
       "    </tr>\n",
       "    <tr>\n",
       "      <th>2</th>\n",
       "      <td>R11</td>\n",
       "      <td>11_in_2.5x-0001.png</td>\n",
       "      <td>17</td>\n",
       "      <td>8.41</td>\n",
       "      <td>2.57</td>\n",
       "      <td>0.63</td>\n",
       "    </tr>\n",
       "    <tr>\n",
       "      <th>3</th>\n",
       "      <td>R11</td>\n",
       "      <td>11_in_2.5x-0001.png</td>\n",
       "      <td>8</td>\n",
       "      <td>3.54</td>\n",
       "      <td>2.88</td>\n",
       "      <td>1.00</td>\n",
       "    </tr>\n",
       "    <tr>\n",
       "      <th>4</th>\n",
       "      <td>R11</td>\n",
       "      <td>11_in_2.5x-0001.png</td>\n",
       "      <td>31</td>\n",
       "      <td>7.76</td>\n",
       "      <td>5.09</td>\n",
       "      <td>0.91</td>\n",
       "    </tr>\n",
       "  </tbody>\n",
       "</table>\n",
       "</div>"
      ],
      "text/plain": [
       "  Sample              Picture  Area  Major  Minor  Circularity\n",
       "0    R11  11_in_2.5x-0001.png     4   3.22   1.58         0.86\n",
       "1    R11  11_in_2.5x-0001.png   137  25.40   6.87         0.34\n",
       "2    R11  11_in_2.5x-0001.png    17   8.41   2.57         0.63\n",
       "3    R11  11_in_2.5x-0001.png     8   3.54   2.88         1.00\n",
       "4    R11  11_in_2.5x-0001.png    31   7.76   5.09         0.91"
      ]
     },
     "execution_count": 19,
     "metadata": {},
     "output_type": "execute_result"
    }
   ],
   "source": [
    "folder_name = 'FIJI_evaluation'\n",
    "df = get_fiji_summary(folder_name)\n",
    "df.head()"
   ]
  },
  {
   "cell_type": "code",
   "execution_count": null,
   "id": "739b4380",
   "metadata": {},
   "outputs": [],
   "source": []
  }
 ],
 "metadata": {
  "kernelspec": {
   "display_name": "Python 3 (ipykernel)",
   "language": "python",
   "name": "python3"
  },
  "language_info": {
   "codemirror_mode": {
    "name": "ipython",
    "version": 3
   },
   "file_extension": ".py",
   "mimetype": "text/x-python",
   "name": "python",
   "nbconvert_exporter": "python",
   "pygments_lexer": "ipython3",
   "version": "3.9.12"
  }
 },
 "nbformat": 4,
 "nbformat_minor": 5
}
