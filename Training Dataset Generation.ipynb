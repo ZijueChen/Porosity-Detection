{
 "cells": [
  {
   "cell_type": "code",
   "execution_count": 1,
   "id": "50559fd9",
   "metadata": {},
   "outputs": [],
   "source": [
    "import numpy as np\n",
    "from glob import glob\n",
    "import shutil\n",
    "import cv2\n",
    "import pandas as pd\n",
    "import os\n"
   ]
  },
  {
   "cell_type": "code",
   "execution_count": null,
   "id": "e6944dec",
   "metadata": {},
   "outputs": [],
   "source": [
    "#用来把ENet生成的excel汇总在一起的\n",
    "# for i in range(5):\n",
    "#     df = pd.read_excel('Desity_pred' + str(i) + '.xlsx')\n",
    "#     names = list(df['PicName'])\n",
    "#     preds = list(df['Prediction'])"
   ]
  },
  {
   "cell_type": "code",
   "execution_count": 4,
   "id": "3465af95",
   "metadata": {},
   "outputs": [
    {
     "name": "stdout",
     "output_type": "stream",
     "text": [
      "[[192 187 184 ... 175 173 173]\n",
      " [193 189 185 ... 174 176 174]\n",
      " [199 193 187 ... 174 175 175]\n",
      " ...\n",
      " [185 183 183 ... 177 182 189]\n",
      " [186 184 181 ... 181 184 185]\n",
      " [187 186 183 ... 183 182 183]]\n"
     ]
    }
   ],
   "source": [
    "#随便写的用来验证TF那边读取图片是不是对的\n",
    "pic = cv2.imread('pics1\\\\A2_2.5x-0003_0.png',0)\n",
    "print(pic)"
   ]
  },
  {
   "cell_type": "code",
   "execution_count": 23,
   "id": "eaa97d18",
   "metadata": {},
   "outputs": [],
   "source": [
    "def copy_to(sc_path, des_path):\n",
    "    files = glob(sc_path + '*.*')\n",
    "    for file in files:\n",
    "        name = list(file.split('\\\\'))[-1]\n",
    "        shutil.copyfile(file, des_path + name)"
   ]
  },
  {
   "cell_type": "code",
   "execution_count": 32,
   "id": "5e7d1476",
   "metadata": {},
   "outputs": [],
   "source": [
    "copy_to('Ti-6Al-4V set 2\\\\6s8v_2.5x\\\\', 'ori_pics2\\\\')"
   ]
  },
  {
   "cell_type": "code",
   "execution_count": 34,
   "id": "0f5ad4bf",
   "metadata": {},
   "outputs": [],
   "source": [
    "for i in range(7):\n",
    "    for l in ['v', 'h']:\n",
    "        copy_to('Ti-6Al-4V set 2\\\\3s' + str(i+1) + l + '\\\\', 'ori_pics2\\\\')"
   ]
  },
  {
   "cell_type": "code",
   "execution_count": 2,
   "id": "26c0af2a",
   "metadata": {},
   "outputs": [
    {
     "data": {
      "text/html": [
       "<div>\n",
       "<style scoped>\n",
       "    .dataframe tbody tr th:only-of-type {\n",
       "        vertical-align: middle;\n",
       "    }\n",
       "\n",
       "    .dataframe tbody tr th {\n",
       "        vertical-align: top;\n",
       "    }\n",
       "\n",
       "    .dataframe thead th {\n",
       "        text-align: right;\n",
       "    }\n",
       "</style>\n",
       "<table border=\"1\" class=\"dataframe\">\n",
       "  <thead>\n",
       "    <tr style=\"text-align: right;\">\n",
       "      <th></th>\n",
       "      <th>Sample ID.</th>\n",
       "      <th>Scan Speed</th>\n",
       "      <th>Laser Power</th>\n",
       "      <th>Hatch Spacing (um)</th>\n",
       "      <th>Energy Density (J/mm3)</th>\n",
       "      <th>Part Density (%)</th>\n",
       "    </tr>\n",
       "  </thead>\n",
       "  <tbody>\n",
       "    <tr>\n",
       "      <th>0</th>\n",
       "      <td>A1</td>\n",
       "      <td>1200</td>\n",
       "      <td>280.0</td>\n",
       "      <td>140.00</td>\n",
       "      <td>37.037037</td>\n",
       "      <td>99.9080</td>\n",
       "    </tr>\n",
       "    <tr>\n",
       "      <th>1</th>\n",
       "      <td>A2</td>\n",
       "      <td>1800</td>\n",
       "      <td>280.0</td>\n",
       "      <td>140.00</td>\n",
       "      <td>24.691358</td>\n",
       "      <td>96.2680</td>\n",
       "    </tr>\n",
       "    <tr>\n",
       "      <th>2</th>\n",
       "      <td>A3</td>\n",
       "      <td>1500</td>\n",
       "      <td>366.6</td>\n",
       "      <td>140.00</td>\n",
       "      <td>38.793651</td>\n",
       "      <td>99.6250</td>\n",
       "    </tr>\n",
       "    <tr>\n",
       "      <th>3</th>\n",
       "      <td>A4</td>\n",
       "      <td>1500</td>\n",
       "      <td>308.9</td>\n",
       "      <td>197.12</td>\n",
       "      <td>23.215789</td>\n",
       "      <td>92.7525</td>\n",
       "    </tr>\n",
       "    <tr>\n",
       "      <th>4</th>\n",
       "      <td>A5</td>\n",
       "      <td>600</td>\n",
       "      <td>280.0</td>\n",
       "      <td>140.00</td>\n",
       "      <td>74.074074</td>\n",
       "      <td>91.4560</td>\n",
       "    </tr>\n",
       "  </tbody>\n",
       "</table>\n",
       "</div>"
      ],
      "text/plain": [
       "  Sample ID.  Scan Speed  Laser Power   Hatch Spacing (um)  \\\n",
       "0         A1        1200         280.0              140.00   \n",
       "1         A2        1800         280.0              140.00   \n",
       "2         A3        1500         366.6              140.00   \n",
       "3         A4        1500         308.9              197.12   \n",
       "4         A5         600         280.0              140.00   \n",
       "\n",
       "   Energy Density (J/mm3)  Part Density (%)  \n",
       "0               37.037037           99.9080  \n",
       "1               24.691358           96.2680  \n",
       "2               38.793651           99.6250  \n",
       "3               23.215789           92.7525  \n",
       "4               74.074074           91.4560  "
      ]
     },
     "execution_count": 2,
     "metadata": {},
     "output_type": "execute_result"
    }
   ],
   "source": [
    "df = pd.read_excel('clean excel.xlsx')\n",
    "df.head()"
   ]
  },
  {
   "cell_type": "code",
   "execution_count": 3,
   "id": "634139ad",
   "metadata": {},
   "outputs": [
    {
     "name": "stdout",
     "output_type": "stream",
     "text": [
      "[99.908, 96.268, 99.625, 92.7525, 91.456, 99.952, 99.596, 78.888, 99.98, 99.744, 99.99, 99.97, 87.958, 99.836, 97.406, 99.698, 93.63, 97.318, 99.836, 99.698, 91.976, 99.982, 99.792, 99.956, 99.852, 92.47]\n"
     ]
    }
   ],
   "source": [
    "folder_names = list(df['Sample ID.'])\n",
    "energy = list(df['Energy Density (J/mm3)'])\n",
    "density = list(df['Part Density (%)'])\n",
    "print(density)"
   ]
  },
  {
   "cell_type": "code",
   "execution_count": 3,
   "id": "274117fc",
   "metadata": {},
   "outputs": [],
   "source": [
    "files = glob('ori_pics1\\\\*.*')\n",
    "for file in files:\n",
    "    name = list(file.split('\\\\'))[-1][:-4]\n",
    "    pic = cv2.imread(file)\n",
    "    pic = cv2.resize(pic, [256,256])\n",
    "    pic0 = cv2.flip(pic, 0)\n",
    "    pic1 = cv2.flip(pic, 1)\n",
    "    pic2 = cv2.flip(pic, -1)\n",
    "    cv2.imwrite('pics1\\\\' + name + '.png', pic)\n",
    "    cv2.imwrite('pics1\\\\' + name + '_0.png', pic0)\n",
    "    cv2.imwrite('pics1\\\\' + name + '_1.png', pic1)\n",
    "    cv2.imwrite('pics1\\\\' + name + '_2.png', pic2)"
   ]
  },
  {
   "cell_type": "code",
   "execution_count": 6,
   "id": "71aae7fe",
   "metadata": {},
   "outputs": [],
   "source": [
    "files = glob('pics1\\\\*.*')\n",
    "for file in files:\n",
    "    name = list(file.split('\\\\'))[-1]\n",
    "    folder = list(name.split('_'))[0]\n",
    "    if folder == 'C14' or folder == 'C15':\n",
    "        folder = 'C1'\n",
    "    cv2.imwrite('GT_density\\\\'+name, np.round(density[folder_names.index(folder)]-70)/30*255)"
   ]
  },
  {
   "cell_type": "code",
   "execution_count": null,
   "id": "2b03f951",
   "metadata": {},
   "outputs": [],
   "source": []
  },
  {
   "cell_type": "code",
   "execution_count": 4,
   "id": "b0e7f3eb",
   "metadata": {},
   "outputs": [],
   "source": [
    "for i in range(5):\n",
    "    files = glob('point_folder\\\\group'+str(i)+'\\\\*.*')\n",
    "    pic = np.zeros(1)\n",
    "    for file in files:\n",
    "        name = list(file.split('\\\\'))[-1][:-8]\n",
    "        cv2.imwrite('point_folder\\\\group'+str(i)+'\\\\' + name + '.png', pic)\n",
    "        os.remove(file)"
   ]
  },
  {
   "cell_type": "code",
   "execution_count": null,
   "id": "97c466a1",
   "metadata": {},
   "outputs": [],
   "source": []
  }
 ],
 "metadata": {
  "kernelspec": {
   "display_name": "Python 3 (ipykernel)",
   "language": "python",
   "name": "python3"
  },
  "language_info": {
   "codemirror_mode": {
    "name": "ipython",
    "version": 3
   },
   "file_extension": ".py",
   "mimetype": "text/x-python",
   "name": "python",
   "nbconvert_exporter": "python",
   "pygments_lexer": "ipython3",
   "version": "3.9.12"
  }
 },
 "nbformat": 4,
 "nbformat_minor": 5
}
