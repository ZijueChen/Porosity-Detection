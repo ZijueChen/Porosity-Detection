{
 "cells": [
  {
   "cell_type": "code",
   "execution_count": 4,
   "id": "e7c90454",
   "metadata": {},
   "outputs": [],
   "source": [
    "import numpy as np\n",
    "from glob import glob\n",
    "import shutil\n",
    "import cv2\n",
    "import pandas as pd\n",
    "import os\n",
    "import seaborn as sns"
   ]
  },
  {
   "cell_type": "code",
   "execution_count": 5,
   "id": "21de7c5e",
   "metadata": {},
   "outputs": [
    {
     "data": {
      "text/plain": [
       "array([  0, 255], dtype=uint8)"
      ]
     },
     "execution_count": 5,
     "metadata": {},
     "output_type": "execute_result"
    }
   ],
   "source": [
    "# check pic is binary\n",
    "img = cv2.imread('..\\\\binary2\\\\11_in_2.5x-0007.png')\n",
    "np.unique(img)"
   ]
  },
  {
   "cell_type": "code",
   "execution_count": 3,
   "id": "40d69e95",
   "metadata": {},
   "outputs": [],
   "source": [
    "# 把binary图片缩小成短边=286并颠倒黑白\n",
    "def resize_binary(img):\n",
    "    w, h = img.shape\n",
    "    shrink = min(w,h)/286\n",
    "    new_img = cv2.resize(img, [int(h//shrink),int(w//shrink)])//128\n",
    "    new_img = (new_img*-1+1)*255\n",
    "    return new_img"
   ]
  },
  {
   "cell_type": "code",
   "execution_count": 4,
   "id": "22a1aaee",
   "metadata": {},
   "outputs": [],
   "source": [
    "files = glob('..\\\\binary\\\\*.*')\n",
    "for file in files:\n",
    "    name = list(file.split('\\\\'))[-1][:-4]\n",
    "    img = cv2.imread(file, 0)\n",
    "    new_img = resize_binary(img)\n",
    "    cv2.imwrite('..\\\\binary2\\\\' + name +'.png', new_img)\n",
    "#     break"
   ]
  },
  {
   "cell_type": "code",
   "execution_count": 3,
   "id": "97b72dde",
   "metadata": {},
   "outputs": [],
   "source": [
    "# 把p2p_target里的彩色图片转化成黑白的\n",
    "files = glob('p2p_target\\\\*.*')\n",
    "for file in files:\n",
    "    img = cv2.imread(file, 0)\n",
    "    cv2.imwrite(file, img)"
   ]
  },
  {
   "cell_type": "code",
   "execution_count": 2,
   "id": "9e34ea58",
   "metadata": {},
   "outputs": [],
   "source": [
    "df = pd.read_excel('new_clean_excel.xlsx')"
   ]
  },
  {
   "cell_type": "code",
   "execution_count": 5,
   "id": "94f50689",
   "metadata": {},
   "outputs": [
    {
     "data": {
      "text/plain": [
       "<AxesSubplot:xlabel='Energy Density (J/mm3)', ylabel='Count'>"
      ]
     },
     "execution_count": 5,
     "metadata": {},
     "output_type": "execute_result"
    },
    {
     "data": {
      "image/png": "[encoded data removed]",
      "text/plain": [
       "<Figure size 432x288 with 1 Axes>"
      ]
     },
     "metadata": {
      "needs_background": "light"
     },
     "output_type": "display_data"
    }
   ],
   "source": [
    "# 画一画dataset里的分布找到合适的coverage\n",
    "sns.histplot(data=df, x=\"Energy Density (J/mm3)\")"
   ]
  },
  {
   "cell_type": "code",
   "execution_count": 6,
   "id": "f81f5f08",
   "metadata": {},
   "outputs": [
    {
     "data": {
      "text/plain": [
       "<AxesSubplot:xlabel='Scan Speed', ylabel='Count'>"
      ]
     },
     "execution_count": 6,
     "metadata": {},
     "output_type": "execute_result"
    },
    {
     "data": {
      "image/png": "[encoded data removed]",
      "text/plain": [
       "<Figure size 432x288 with 1 Axes>"
      ]
     },
     "metadata": {
      "needs_background": "light"
     },
     "output_type": "display_data"
    }
   ],
   "source": [
    "sns.histplot(data=df, x=\"Scan Speed\")"
   ]
  },
  {
   "cell_type": "code",
   "execution_count": 8,
   "id": "733343a6",
   "metadata": {
    "scrolled": true
   },
   "outputs": [
    {
     "data": {
      "text/plain": [
       "<AxesSubplot:xlabel='Hatch Spacing (um)', ylabel='Count'>"
      ]
     },
     "execution_count": 8,
     "metadata": {},
     "output_type": "execute_result"
    },
    {
     "data": {
      "image/png": "[encoded data removed]",
      "text/plain": [
       "<Figure size 432x288 with 1 Axes>"
      ]
     },
     "metadata": {
      "needs_background": "light"
     },
     "output_type": "display_data"
    }
   ],
   "source": [
    "sns.histplot(data=df, x=\"Hatch Spacing (um)\")"
   ]
  },
  {
   "cell_type": "code",
   "execution_count": 9,
   "id": "ca1c20bc",
   "metadata": {
    "scrolled": true
   },
   "outputs": [
    {
     "data": {
      "text/plain": [
       "<AxesSubplot:xlabel='Layer Thickness (um)', ylabel='Count'>"
      ]
     },
     "execution_count": 9,
     "metadata": {},
     "output_type": "execute_result"
    },
    {
     "data": {
      "image/png": "[encoded data removed]",
      "text/plain": [
       "<Figure size 432x288 with 1 Axes>"
      ]
     },
     "metadata": {
      "needs_background": "light"
     },
     "output_type": "display_data"
    }
   ],
   "source": [
    "sns.histplot(data=df, x=\"Layer Thickness (um)\")"
   ]
  },
  {
   "cell_type": "code",
   "execution_count": 7,
   "id": "bd8d4015",
   "metadata": {
    "scrolled": true
   },
   "outputs": [
    {
     "data": {
      "text/plain": [
       "<AxesSubplot:xlabel='Laser Power ', ylabel='Count'>"
      ]
     },
     "execution_count": 7,
     "metadata": {},
     "output_type": "execute_result"
    },
    {
     "data": {
      "image/png": "[encoded data removed]",
      "text/plain": [
       "<Figure size 432x288 with 1 Axes>"
      ]
     },
     "metadata": {
      "needs_background": "light"
     },
     "output_type": "display_data"
    }
   ],
   "source": [
    "sns.histplot(data=df, x=\"Laser Power \")"
   ]
  },
  {
   "cell_type": "code",
   "execution_count": null,
   "id": "7cb9f14f",
   "metadata": {},
   "outputs": [],
   "source": []
  },
  {
   "cell_type": "code",
   "execution_count": 20,
   "id": "51fe2216",
   "metadata": {},
   "outputs": [
    {
     "name": "stdout",
     "output_type": "stream",
     "text": [
      "['3s7', '6s4', 'R11', 'R7']\n",
      "['R4', 'R1', 'R8', '6s1', 'R5']\n",
      "['R2', '6s2', 'R3', 'R14']\n",
      "['6s8', 'R13', '3s4', '3s3', '3s8']\n",
      "['R6', '3s1', '3s2', '6s3', '3s5']\n"
     ]
    }
   ],
   "source": [
    "import random\n",
    "settings = list(df['Sample ID.'])\n",
    "random.shuffle(settings)\n",
    "group0 = settings[:len(settings)//5]\n",
    "group1 = settings[len(settings)//5:2*len(settings)//5]\n",
    "group2 = settings[2*len(settings)//5:3*len(settings)//5]\n",
    "group3 = settings[3*len(settings)//5:4*len(settings)//5]\n",
    "group4 = settings[4*len(settings)//5:]\n",
    "print(group0)\n",
    "print(group1)\n",
    "print(group2)\n",
    "print(group3)\n",
    "print(group4)"
   ]
  },
  {
   "cell_type": "code",
   "execution_count": 3,
   "id": "a2fc02c2",
   "metadata": {},
   "outputs": [],
   "source": [
    "# 输入图片的名字找到对应sample在excel里的名字\n",
    "def get_sample_name(name):\n",
    "    if name[1] == 's' or name[0] == 'x' or name[0] == 'y':\n",
    "        folder = list(name.split(' '))[0][:3]\n",
    "        if folder[0] == 'y':\n",
    "            folder = '6s8'\n",
    "        elif folder[0] == 'x':\n",
    "            folder = '3s8'\n",
    "    else:\n",
    "        folder = list(name.split('_'))[0]\n",
    "        if folder[0] != 'R':\n",
    "            folder = 'R' + folder\n",
    "    return folder"
   ]
  },
  {
   "cell_type": "code",
   "execution_count": 21,
   "id": "a6d94d1a",
   "metadata": {},
   "outputs": [],
   "source": [
    "# 重新按照四个参数setting分配point folder groups\n",
    "point_path = '..\\\\point_folder\\\\'\n",
    "target_path = '..\\\\binary2\\\\'\n",
    "zero = np.zeros([1])\n",
    "folders = []\n",
    "for i in range(5):\n",
    "    shutil.rmtree(point_path+'group' + str(i))\n",
    "    os.mkdir(point_path+'group' + str(i))\n",
    "files = glob(target_path + '*.*')\n",
    "for file in files:\n",
    "    name = list(file.split('\\\\'))[-1]\n",
    "    folder = get_sample_name(name)\n",
    "\n",
    "    if folder in group0:\n",
    "        cv2.imwrite(point_path + 'group0\\\\' + name, zero)\n",
    "    elif folder in group1:\n",
    "        cv2.imwrite(point_path + 'group1\\\\' + name, zero)\n",
    "    elif folder in group2:\n",
    "        cv2.imwrite(point_path + 'group2\\\\' + name, zero)\n",
    "    elif folder in group3:\n",
    "        cv2.imwrite(point_path + 'group3\\\\' + name, zero)\n",
    "    elif folder in group4:\n",
    "        cv2.imwrite(point_path + 'group4\\\\' + name, zero)\n",
    "    else:\n",
    "        print(name, folder)\n",
    "# print(folders)"
   ]
  },
  {
   "cell_type": "code",
   "execution_count": 23,
   "id": "00e10a1a",
   "metadata": {},
   "outputs": [],
   "source": [
    "# 从表格里找对应名字的part的density GT\n",
    "files = glob(target_path+'*.*')\n",
    "for file in files:\n",
    "    name = list(file.split('\\\\'))[-1]\n",
    "    folder = get_sample_name(name)\n",
    "\n",
    "    sp = np.ones([256,256,1])*(df[df['Sample ID.']==folder]['Scan Speed'].to_numpy()[0]-600)/1700*255\n",
    "    lp = np.ones([256,256,1])*(df[df['Sample ID.']==folder]['Laser Power '].to_numpy()[0]-150)/150*255\n",
    "    hp = np.ones([256,256,1])*(df[df['Sample ID.']==folder]['Hatch Spacing (um)'].to_numpy()[0]-80)/160*255\n",
    "    lt = np.ones([256,256,1])*(df[df['Sample ID.']==folder]['Layer Thickness (um)'].to_numpy()[0]-30)/30*255\n",
    "    ed = np.ones([256,256,1])*(df[df['Sample ID.']==folder]['Energy Density (J/mm3)'].to_numpy()[0]-10)/160*255\n",
    "    \n",
    "    pic = np.concatenate([sp, lp, hp, lt], axis=-1)\n",
    "    cv2.imwrite('..\\\\p2p_input_map\\\\setting0\\\\'+name, pic)\n",
    "    cv2.imwrite('..\\\\p2p_input_map\\\\setting1\\\\'+name, ed)"
   ]
  },
  {
   "cell_type": "code",
   "execution_count": 25,
   "id": "71aae7fe",
   "metadata": {},
   "outputs": [],
   "source": [
    "# # 从表格里找对应名字的part的density GT\n",
    "# files = glob('pics2\\\\*.*')\n",
    "# for file in files:\n",
    "#     name = list(file.split('\\\\'))[-1]\n",
    "#     ori_name = list(name.split('.tif'))[0]\n",
    "# #     print(ori_name)\n",
    "#     folder = list(name.split(' '))[0][:3]\n",
    "#     if folder[0] == 'y':\n",
    "#         folder = '6s8'\n",
    "#     elif folder[0] == 'x':\n",
    "#         folder = '3s8'\n",
    "#     sp = np.ones([256,256,1])*(df[df['Sample ID.']==folder]['Scan Speed'].to_numpy()[0]-600)/1700*255\n",
    "#     lp = np.ones([256,256,1])*(df[df['Sample ID.']==folder]['Laser Power '].to_numpy()[0]-160)/206.6*255\n",
    "#     hp = np.ones([256,256,1])*(df[df['Sample ID.']==folder]['Hatch Spacing (um)'].to_numpy()[0]-80)/117.12*255\n",
    "#     lt = np.ones([256,256,1])*(df[df['Sample ID.']==folder]['Layer Thickness (um)'].to_numpy()[0]-30)/30*255\n",
    "    \n",
    "#     pic = np.concatenate([sp, lp, hp, lt], axis=-1)\n",
    "# #     print(pic.shape)\n",
    "# #     np.round((density[folder_names.index(folder)]-75)/25*255\n",
    "# #     print(np.round((density[folder_names.index(folder)]-95)/5*255))\n",
    "# #     if folder == 'C14' or folder == 'C15':\n",
    "# #         folder = 'C1'\n",
    "#     cv2.imwrite('p2p_input_map\\\\'+ori_name+'.png', pic)"
   ]
  },
  {
   "cell_type": "code",
   "execution_count": 3,
   "id": "3826be07",
   "metadata": {},
   "outputs": [
    {
     "data": {
      "text/html": [
       "<div>\n",
       "<style scoped>\n",
       "    .dataframe tbody tr th:only-of-type {\n",
       "        vertical-align: middle;\n",
       "    }\n",
       "\n",
       "    .dataframe tbody tr th {\n",
       "        vertical-align: top;\n",
       "    }\n",
       "\n",
       "    .dataframe thead th {\n",
       "        text-align: right;\n",
       "    }\n",
       "</style>\n",
       "<table border=\"1\" class=\"dataframe\">\n",
       "  <thead>\n",
       "    <tr style=\"text-align: right;\">\n",
       "      <th></th>\n",
       "      <th>Sample ID.</th>\n",
       "      <th>Scan Speed</th>\n",
       "      <th>Laser Power</th>\n",
       "      <th>Hatch Spacing (um)</th>\n",
       "      <th>Layer Thickness (um)</th>\n",
       "      <th>Energy Density (J/mm3)</th>\n",
       "      <th>Part Density (%)</th>\n",
       "      <th>Pred</th>\n",
       "      <th>Raw preds</th>\n",
       "      <th>Unnamed: 9</th>\n",
       "      <th>...</th>\n",
       "      <th>Unnamed: 33</th>\n",
       "      <th>Unnamed: 34</th>\n",
       "      <th>Unnamed: 35</th>\n",
       "      <th>Unnamed: 36</th>\n",
       "      <th>Unnamed: 37</th>\n",
       "      <th>Unnamed: 38</th>\n",
       "      <th>Unnamed: 39</th>\n",
       "      <th>Unnamed: 40</th>\n",
       "      <th>Unnamed: 41</th>\n",
       "      <th>Unnamed: 42</th>\n",
       "    </tr>\n",
       "  </thead>\n",
       "  <tbody>\n",
       "    <tr>\n",
       "      <th>0</th>\n",
       "      <td>A1</td>\n",
       "      <td>1200</td>\n",
       "      <td>280.0</td>\n",
       "      <td>140.00</td>\n",
       "      <td>30</td>\n",
       "      <td>37.037037</td>\n",
       "      <td>99.9080</td>\n",
       "      <td>99.544273</td>\n",
       "      <td>99.238208</td>\n",
       "      <td>99.893717</td>\n",
       "      <td>...</td>\n",
       "      <td>NaN</td>\n",
       "      <td>NaN</td>\n",
       "      <td>NaN</td>\n",
       "      <td>NaN</td>\n",
       "      <td>NaN</td>\n",
       "      <td>NaN</td>\n",
       "      <td>NaN</td>\n",
       "      <td>NaN</td>\n",
       "      <td>NaN</td>\n",
       "      <td>NaN</td>\n",
       "    </tr>\n",
       "    <tr>\n",
       "      <th>1</th>\n",
       "      <td>A2</td>\n",
       "      <td>1800</td>\n",
       "      <td>280.0</td>\n",
       "      <td>140.00</td>\n",
       "      <td>30</td>\n",
       "      <td>24.691358</td>\n",
       "      <td>96.2680</td>\n",
       "      <td>95.452494</td>\n",
       "      <td>93.890045</td>\n",
       "      <td>97.619629</td>\n",
       "      <td>...</td>\n",
       "      <td>NaN</td>\n",
       "      <td>NaN</td>\n",
       "      <td>NaN</td>\n",
       "      <td>NaN</td>\n",
       "      <td>NaN</td>\n",
       "      <td>NaN</td>\n",
       "      <td>NaN</td>\n",
       "      <td>NaN</td>\n",
       "      <td>NaN</td>\n",
       "      <td>NaN</td>\n",
       "    </tr>\n",
       "    <tr>\n",
       "      <th>2</th>\n",
       "      <td>A3</td>\n",
       "      <td>1500</td>\n",
       "      <td>366.6</td>\n",
       "      <td>140.00</td>\n",
       "      <td>30</td>\n",
       "      <td>38.793651</td>\n",
       "      <td>99.6250</td>\n",
       "      <td>100.117231</td>\n",
       "      <td>99.182389</td>\n",
       "      <td>100.082476</td>\n",
       "      <td>...</td>\n",
       "      <td>NaN</td>\n",
       "      <td>NaN</td>\n",
       "      <td>NaN</td>\n",
       "      <td>NaN</td>\n",
       "      <td>NaN</td>\n",
       "      <td>NaN</td>\n",
       "      <td>NaN</td>\n",
       "      <td>NaN</td>\n",
       "      <td>NaN</td>\n",
       "      <td>NaN</td>\n",
       "    </tr>\n",
       "    <tr>\n",
       "      <th>3</th>\n",
       "      <td>A4</td>\n",
       "      <td>1500</td>\n",
       "      <td>308.9</td>\n",
       "      <td>197.12</td>\n",
       "      <td>30</td>\n",
       "      <td>23.215789</td>\n",
       "      <td>92.7525</td>\n",
       "      <td>92.936470</td>\n",
       "      <td>94.380960</td>\n",
       "      <td>92.392250</td>\n",
       "      <td>...</td>\n",
       "      <td>NaN</td>\n",
       "      <td>NaN</td>\n",
       "      <td>NaN</td>\n",
       "      <td>NaN</td>\n",
       "      <td>NaN</td>\n",
       "      <td>NaN</td>\n",
       "      <td>NaN</td>\n",
       "      <td>NaN</td>\n",
       "      <td>NaN</td>\n",
       "      <td>NaN</td>\n",
       "    </tr>\n",
       "    <tr>\n",
       "      <th>4</th>\n",
       "      <td>A5</td>\n",
       "      <td>600</td>\n",
       "      <td>280.0</td>\n",
       "      <td>140.00</td>\n",
       "      <td>30</td>\n",
       "      <td>74.074074</td>\n",
       "      <td>91.4560</td>\n",
       "      <td>93.644234</td>\n",
       "      <td>91.025290</td>\n",
       "      <td>92.794673</td>\n",
       "      <td>...</td>\n",
       "      <td>NaN</td>\n",
       "      <td>NaN</td>\n",
       "      <td>NaN</td>\n",
       "      <td>NaN</td>\n",
       "      <td>NaN</td>\n",
       "      <td>NaN</td>\n",
       "      <td>NaN</td>\n",
       "      <td>NaN</td>\n",
       "      <td>NaN</td>\n",
       "      <td>NaN</td>\n",
       "    </tr>\n",
       "  </tbody>\n",
       "</table>\n",
       "<p>5 rows × 43 columns</p>\n",
       "</div>"
      ],
      "text/plain": [
       "  Sample ID.  Scan Speed  Laser Power   Hatch Spacing (um)  \\\n",
       "0         A1        1200         280.0              140.00   \n",
       "1         A2        1800         280.0              140.00   \n",
       "2         A3        1500         366.6              140.00   \n",
       "3         A4        1500         308.9              197.12   \n",
       "4         A5         600         280.0              140.00   \n",
       "\n",
       "   Layer Thickness (um)  Energy Density (J/mm3)  Part Density (%)        Pred  \\\n",
       "0                    30               37.037037           99.9080   99.544273   \n",
       "1                    30               24.691358           96.2680   95.452494   \n",
       "2                    30               38.793651           99.6250  100.117231   \n",
       "3                    30               23.215789           92.7525   92.936470   \n",
       "4                    30               74.074074           91.4560   93.644234   \n",
       "\n",
       "   Raw preds  Unnamed: 9  ...  Unnamed: 33  Unnamed: 34  Unnamed: 35  \\\n",
       "0  99.238208   99.893717  ...          NaN          NaN          NaN   \n",
       "1  93.890045   97.619629  ...          NaN          NaN          NaN   \n",
       "2  99.182389  100.082476  ...          NaN          NaN          NaN   \n",
       "3  94.380960   92.392250  ...          NaN          NaN          NaN   \n",
       "4  91.025290   92.794673  ...          NaN          NaN          NaN   \n",
       "\n",
       "   Unnamed: 36  Unnamed: 37  Unnamed: 38  Unnamed: 39  Unnamed: 40  \\\n",
       "0          NaN          NaN          NaN          NaN          NaN   \n",
       "1          NaN          NaN          NaN          NaN          NaN   \n",
       "2          NaN          NaN          NaN          NaN          NaN   \n",
       "3          NaN          NaN          NaN          NaN          NaN   \n",
       "4          NaN          NaN          NaN          NaN          NaN   \n",
       "\n",
       "   Unnamed: 41  Unnamed: 42  \n",
       "0          NaN          NaN  \n",
       "1          NaN          NaN  \n",
       "2          NaN          NaN  \n",
       "3          NaN          NaN  \n",
       "4          NaN          NaN  \n",
       "\n",
       "[5 rows x 43 columns]"
      ]
     },
     "execution_count": 3,
     "metadata": {},
     "output_type": "execute_result"
    }
   ],
   "source": [
    "df.head()\n",
    "# 逻辑就是point放在一起之后所有在pointfolder里的图片每个名字提取出来去找他属于哪个sample\n",
    "# 然后用sample对应的四个参数去分别减去她们最小的limit然后/range\n",
    "# 四个分别的生成一个256*256的层 然后concat到一起"
   ]
  },
  {
   "cell_type": "code",
   "execution_count": 5,
   "id": "6a2b2236",
   "metadata": {},
   "outputs": [
    {
     "data": {
      "text/plain": [
       "44.84753761082652"
      ]
     },
     "execution_count": 5,
     "metadata": {},
     "output_type": "execute_result"
    }
   ],
   "source": [
    "# 计算dice loss weight\n",
    "weights = []\n",
    "files = glob('binary2\\\\*.*')\n",
    "for file in files:\n",
    "    pic = cv2.imread(file, 0)\n",
    "    class1 = np.count_nonzero(pic)\n",
    "    class0 = np.count_nonzero(pic==0)\n",
    "    weight = class1/class0\n",
    "    weights.append(weight)\n",
    "1/(sum(weights)/len(weights))"
   ]
  },
  {
   "cell_type": "code",
   "execution_count": 19,
   "id": "f702c1ae",
   "metadata": {},
   "outputs": [
    {
     "data": {
      "text/plain": [
       "array([  0, 255], dtype=uint8)"
      ]
     },
     "execution_count": 19,
     "metadata": {},
     "output_type": "execute_result"
    }
   ],
   "source": [
    "# 检查高木GT的图片是不是binary\n",
    "pic = cv2.imread('binary2\\\\3s1h 2.5x-0002_0.png')\n",
    "np.unique(pic)"
   ]
  },
  {
   "cell_type": "code",
   "execution_count": 3,
   "id": "e6944dec",
   "metadata": {},
   "outputs": [],
   "source": [
    "#用来把ENet生成的excel汇总在一起的\n",
    "names = []\n",
    "preds = []\n",
    "for i in range(5):\n",
    "    df = pd.read_excel('2Density_pred' + str(i) + '.xlsx')\n",
    "    names=names + list(df['PicName'])\n",
    "    preds=preds + list(df['Prediction'])\n",
    "    \n",
    "df = pd.DataFrame({'PicName': names, 'Prediction': preds})\n",
    "df.to_excel('2Density.xlsx')"
   ]
  },
  {
   "cell_type": "code",
   "execution_count": 4,
   "id": "3465af95",
   "metadata": {},
   "outputs": [
    {
     "name": "stdout",
     "output_type": "stream",
     "text": [
      "[[192 187 184 ... 175 173 173]\n",
      " [193 189 185 ... 174 176 174]\n",
      " [199 193 187 ... 174 175 175]\n",
      " ...\n",
      " [185 183 183 ... 177 182 189]\n",
      " [186 184 181 ... 181 184 185]\n",
      " [187 186 183 ... 183 182 183]]\n"
     ]
    }
   ],
   "source": [
    "#随便写的用来验证TF那边读取图片是不是对的\n",
    "pic = cv2.imread('pics1\\\\A2_2.5x-0003_0.png',0)\n",
    "print(pic)"
   ]
  },
  {
   "cell_type": "code",
   "execution_count": 23,
   "id": "eaa97d18",
   "metadata": {},
   "outputs": [],
   "source": [
    "def copy_to(sc_path, des_path):\n",
    "    files = glob(sc_path + '*.*')\n",
    "    for file in files:\n",
    "        name = list(file.split('\\\\'))[-1]\n",
    "        shutil.copyfile(file, des_path + name)"
   ]
  },
  {
   "cell_type": "code",
   "execution_count": 32,
   "id": "5e7d1476",
   "metadata": {},
   "outputs": [],
   "source": [
    "copy_to('Ti-6Al-4V set 2\\\\6s8v_2.5x\\\\', 'ori_pics2\\\\')"
   ]
  },
  {
   "cell_type": "code",
   "execution_count": 34,
   "id": "0f5ad4bf",
   "metadata": {},
   "outputs": [],
   "source": [
    "for i in range(7):\n",
    "    for l in ['v', 'h']:\n",
    "        copy_to('Ti-6Al-4V set 2\\\\3s' + str(i+1) + l + '\\\\', 'ori_pics2\\\\')"
   ]
  },
  {
   "cell_type": "code",
   "execution_count": 3,
   "id": "26c0af2a",
   "metadata": {},
   "outputs": [
    {
     "data": {
      "text/html": [
       "<div>\n",
       "<style scoped>\n",
       "    .dataframe tbody tr th:only-of-type {\n",
       "        vertical-align: middle;\n",
       "    }\n",
       "\n",
       "    .dataframe tbody tr th {\n",
       "        vertical-align: top;\n",
       "    }\n",
       "\n",
       "    .dataframe thead th {\n",
       "        text-align: right;\n",
       "    }\n",
       "</style>\n",
       "<table border=\"1\" class=\"dataframe\">\n",
       "  <thead>\n",
       "    <tr style=\"text-align: right;\">\n",
       "      <th></th>\n",
       "      <th>Sample ID.</th>\n",
       "      <th>Scan Speed</th>\n",
       "      <th>Laser Power</th>\n",
       "      <th>Hatch Spacing (um)</th>\n",
       "      <th>Layer Thickness (um)</th>\n",
       "      <th>Energy Density (J/mm3)</th>\n",
       "      <th>Part Density (%)</th>\n",
       "      <th>Pred</th>\n",
       "      <th>Unnamed: 8</th>\n",
       "      <th>Unnamed: 9</th>\n",
       "      <th>...</th>\n",
       "      <th>Unnamed: 12</th>\n",
       "      <th>Unnamed: 13</th>\n",
       "      <th>Unnamed: 14</th>\n",
       "      <th>Unnamed: 15</th>\n",
       "      <th>Unnamed: 16</th>\n",
       "      <th>Unnamed: 17</th>\n",
       "      <th>Unnamed: 18</th>\n",
       "      <th>Unnamed: 19</th>\n",
       "      <th>Unnamed: 20</th>\n",
       "      <th>Unnamed: 21</th>\n",
       "    </tr>\n",
       "  </thead>\n",
       "  <tbody>\n",
       "    <tr>\n",
       "      <th>0</th>\n",
       "      <td>A1</td>\n",
       "      <td>1200</td>\n",
       "      <td>280.0</td>\n",
       "      <td>140.00</td>\n",
       "      <td>30</td>\n",
       "      <td>37.037037</td>\n",
       "      <td>99.9080</td>\n",
       "      <td>99.238208</td>\n",
       "      <td>99.893717</td>\n",
       "      <td>99.102610</td>\n",
       "      <td>...</td>\n",
       "      <td>100.599617</td>\n",
       "      <td>NaN</td>\n",
       "      <td>NaN</td>\n",
       "      <td>NaN</td>\n",
       "      <td>NaN</td>\n",
       "      <td>NaN</td>\n",
       "      <td>NaN</td>\n",
       "      <td>NaN</td>\n",
       "      <td>NaN</td>\n",
       "      <td>NaN</td>\n",
       "    </tr>\n",
       "    <tr>\n",
       "      <th>1</th>\n",
       "      <td>A2</td>\n",
       "      <td>1800</td>\n",
       "      <td>280.0</td>\n",
       "      <td>140.00</td>\n",
       "      <td>30</td>\n",
       "      <td>24.691358</td>\n",
       "      <td>96.2680</td>\n",
       "      <td>93.890045</td>\n",
       "      <td>97.619629</td>\n",
       "      <td>95.751340</td>\n",
       "      <td>...</td>\n",
       "      <td>NaN</td>\n",
       "      <td>NaN</td>\n",
       "      <td>NaN</td>\n",
       "      <td>NaN</td>\n",
       "      <td>NaN</td>\n",
       "      <td>NaN</td>\n",
       "      <td>NaN</td>\n",
       "      <td>NaN</td>\n",
       "      <td>NaN</td>\n",
       "      <td>NaN</td>\n",
       "    </tr>\n",
       "    <tr>\n",
       "      <th>2</th>\n",
       "      <td>A3</td>\n",
       "      <td>1500</td>\n",
       "      <td>366.6</td>\n",
       "      <td>140.00</td>\n",
       "      <td>30</td>\n",
       "      <td>38.793651</td>\n",
       "      <td>99.6250</td>\n",
       "      <td>99.182389</td>\n",
       "      <td>100.082476</td>\n",
       "      <td>99.551027</td>\n",
       "      <td>...</td>\n",
       "      <td>NaN</td>\n",
       "      <td>NaN</td>\n",
       "      <td>NaN</td>\n",
       "      <td>NaN</td>\n",
       "      <td>NaN</td>\n",
       "      <td>NaN</td>\n",
       "      <td>NaN</td>\n",
       "      <td>NaN</td>\n",
       "      <td>NaN</td>\n",
       "      <td>NaN</td>\n",
       "    </tr>\n",
       "    <tr>\n",
       "      <th>3</th>\n",
       "      <td>A4</td>\n",
       "      <td>1500</td>\n",
       "      <td>308.9</td>\n",
       "      <td>197.12</td>\n",
       "      <td>30</td>\n",
       "      <td>23.215789</td>\n",
       "      <td>92.7525</td>\n",
       "      <td>94.380960</td>\n",
       "      <td>92.392250</td>\n",
       "      <td>92.515489</td>\n",
       "      <td>...</td>\n",
       "      <td>NaN</td>\n",
       "      <td>NaN</td>\n",
       "      <td>NaN</td>\n",
       "      <td>NaN</td>\n",
       "      <td>NaN</td>\n",
       "      <td>NaN</td>\n",
       "      <td>NaN</td>\n",
       "      <td>NaN</td>\n",
       "      <td>NaN</td>\n",
       "      <td>NaN</td>\n",
       "    </tr>\n",
       "    <tr>\n",
       "      <th>4</th>\n",
       "      <td>A5</td>\n",
       "      <td>600</td>\n",
       "      <td>280.0</td>\n",
       "      <td>140.00</td>\n",
       "      <td>30</td>\n",
       "      <td>74.074074</td>\n",
       "      <td>91.4560</td>\n",
       "      <td>91.025290</td>\n",
       "      <td>92.794673</td>\n",
       "      <td>96.842804</td>\n",
       "      <td>...</td>\n",
       "      <td>NaN</td>\n",
       "      <td>NaN</td>\n",
       "      <td>NaN</td>\n",
       "      <td>NaN</td>\n",
       "      <td>NaN</td>\n",
       "      <td>NaN</td>\n",
       "      <td>NaN</td>\n",
       "      <td>NaN</td>\n",
       "      <td>NaN</td>\n",
       "      <td>NaN</td>\n",
       "    </tr>\n",
       "  </tbody>\n",
       "</table>\n",
       "<p>5 rows × 22 columns</p>\n",
       "</div>"
      ],
      "text/plain": [
       "  Sample ID.  Scan Speed  Laser Power   Hatch Spacing (um)  \\\n",
       "0         A1        1200         280.0              140.00   \n",
       "1         A2        1800         280.0              140.00   \n",
       "2         A3        1500         366.6              140.00   \n",
       "3         A4        1500         308.9              197.12   \n",
       "4         A5         600         280.0              140.00   \n",
       "\n",
       "   Layer Thickness (um)  Energy Density (J/mm3)  Part Density (%)       Pred  \\\n",
       "0                    30               37.037037           99.9080  99.238208   \n",
       "1                    30               24.691358           96.2680  93.890045   \n",
       "2                    30               38.793651           99.6250  99.182389   \n",
       "3                    30               23.215789           92.7525  94.380960   \n",
       "4                    30               74.074074           91.4560  91.025290   \n",
       "\n",
       "   Unnamed: 8  Unnamed: 9  ...  Unnamed: 12  Unnamed: 13  Unnamed: 14  \\\n",
       "0   99.893717   99.102610  ...   100.599617          NaN          NaN   \n",
       "1   97.619629   95.751340  ...          NaN          NaN          NaN   \n",
       "2  100.082476   99.551027  ...          NaN          NaN          NaN   \n",
       "3   92.392250   92.515489  ...          NaN          NaN          NaN   \n",
       "4   92.794673   96.842804  ...          NaN          NaN          NaN   \n",
       "\n",
       "   Unnamed: 15  Unnamed: 16  Unnamed: 17  Unnamed: 18  Unnamed: 19  \\\n",
       "0          NaN          NaN          NaN          NaN          NaN   \n",
       "1          NaN          NaN          NaN          NaN          NaN   \n",
       "2          NaN          NaN          NaN          NaN          NaN   \n",
       "3          NaN          NaN          NaN          NaN          NaN   \n",
       "4          NaN          NaN          NaN          NaN          NaN   \n",
       "\n",
       "   Unnamed: 20  Unnamed: 21  \n",
       "0          NaN          NaN  \n",
       "1          NaN          NaN  \n",
       "2          NaN          NaN  \n",
       "3          NaN          NaN  \n",
       "4          NaN          NaN  \n",
       "\n",
       "[5 rows x 22 columns]"
      ]
     },
     "execution_count": 3,
     "metadata": {},
     "output_type": "execute_result"
    }
   ],
   "source": [
    "df = pd.read_excel('clean excel.xlsx')\n",
    "df.head()"
   ]
  },
  {
   "cell_type": "code",
   "execution_count": 4,
   "id": "634139ad",
   "metadata": {
    "scrolled": true
   },
   "outputs": [
    {
     "name": "stdout",
     "output_type": "stream",
     "text": [
      "42\n"
     ]
    }
   ],
   "source": [
    "folder_names = list(df['Sample ID.'])\n",
    "energy = list(df['Energy Density (J/mm3)'])\n",
    "density = list(df['Part Density (%)'])\n",
    "print(len(density))"
   ]
  },
  {
   "cell_type": "code",
   "execution_count": 5,
   "id": "42928342",
   "metadata": {},
   "outputs": [],
   "source": [
    "# folder_names\n",
    "ori_names= []\n",
    "files = glob('ori_pics2\\\\*.*')\n",
    "for file in files:\n",
    "    name,typ = list(file.split('\\\\'))[-1][:-4], list(file.split('\\\\'))[-1][-3:]\n",
    "    ori_names.append(name)"
   ]
  },
  {
   "cell_type": "code",
   "execution_count": 20,
   "id": "274117fc",
   "metadata": {},
   "outputs": [],
   "source": [
    "# 把original pics resize and flip and save\n",
    "files = glob('foam (3s1, 6s1,....) binary\\\\*.*')\n",
    "for file in files:\n",
    "    name,typ = list(file.split('\\\\'))[-1][:-4], list(file.split('\\\\'))[-1][-3:]\n",
    "\n",
    "    if typ == 'gif':\n",
    "        cap = cv2.VideoCapture(file)\n",
    "        ret, image = cap.read()\n",
    "        cap.release()\n",
    "        if ret:\n",
    "            pic = image\n",
    "    else:        \n",
    "        pic = cv2.imread(file)\n",
    "    \n",
    "    if pic is None:\n",
    "        pass\n",
    "    else:\n",
    "        pic = cv2.resize(pic, [256,256])\n",
    "        pic0 = np.round(cv2.flip(pic, 0)/255.)*255\n",
    "        pic1 = np.round(cv2.flip(pic, 1)/255.)*255\n",
    "        pic2 = np.round(cv2.flip(pic, -1)/255.)*255\n",
    "        \n",
    "        ret,pic = cv2.threshold(pic, 127, 255, cv2.THRESH_BINARY_INV)\n",
    "        ret,pic0 = cv2.threshold(pic0, 127, 255, cv2.THRESH_BINARY_INV)\n",
    "        ret,pic1 = cv2.threshold(pic1, 127, 255, cv2.THRESH_BINARY_INV)\n",
    "        ret,pic2 = cv2.threshold(pic2, 127, 255, cv2.THRESH_BINARY_INV)\n",
    "        \n",
    "        cv2.imwrite('binary2\\\\' + name + '.png', pic)\n",
    "        cv2.imwrite('binary2\\\\' + name + '_0.png', pic0)\n",
    "        cv2.imwrite('binary2\\\\' + name + '_1.png', pic1)\n",
    "        cv2.imwrite('binary2\\\\' + name + '_2.png', pic2)"
   ]
  },
  {
   "cell_type": "code",
   "execution_count": 9,
   "id": "5e3a5adc",
   "metadata": {},
   "outputs": [],
   "source": [
    "ori_names = []\n",
    "files = glob('pics2\\\\*.*')\n",
    "for file in files:\n",
    "    name = list(file.split('\\\\'))[-1]\n",
    "    name = list(name.split('.png'))[0]\n",
    "    ori_names.append(name)"
   ]
  },
  {
   "cell_type": "code",
   "execution_count": 10,
   "id": "0fd17132",
   "metadata": {},
   "outputs": [],
   "source": [
    "# 把pics2里面的图片的名字平分到point_folder2\n",
    "def split_into_5():\n",
    "    pic = np.zeros(1)\n",
    "    files = glob('foam (3s1, 6s1,....) binary\\\\*.*')\n",
    "    for file in files:\n",
    "        name = list(file.split('\\\\'))[-1]\n",
    "        name = list(name.split('.tif'))[0]\n",
    "#         num = np.random.choice(5)\n",
    "#         cv2.imwrite('point_unet2\\\\'+'group'+str(num)+'\\\\'+name+'.png', pic)\n",
    "        \n",
    "\n",
    "        if name in ori_names:\n",
    "            num = np.random.choice(5)\n",
    "            cv2.imwrite('point_unet2\\\\'+'group'+str(num)+'\\\\'+name+'.png', pic)"
   ]
  },
  {
   "cell_type": "code",
   "execution_count": 11,
   "id": "0191834e",
   "metadata": {},
   "outputs": [],
   "source": [
    "split_into_5()"
   ]
  },
  {
   "cell_type": "code",
   "execution_count": 4,
   "id": "b0e7f3eb",
   "metadata": {},
   "outputs": [],
   "source": [
    "# 我还认真盯着这组代码看了好长时间想我当时是要干嘛用的 结果发现是用来把图片格式换成png的。。\n",
    "# for i in range(5):\n",
    "#     files = glob('point_folder\\\\group'+str(i)+'\\\\*.*')\n",
    "#     pic = np.zeros(1)\n",
    "#     for file in files:\n",
    "#         name = list(file.split('\\\\'))[-1][:-8]\n",
    "#         cv2.imwrite('point_folder\\\\group'+str(i)+'\\\\' + name + '.png', pic)\n",
    "#         os.remove(file)"
   ]
  },
  {
   "cell_type": "code",
   "execution_count": null,
   "id": "97c466a1",
   "metadata": {},
   "outputs": [],
   "source": []
  }
 ],
 "metadata": {
  "kernelspec": {
   "display_name": "Python 3 (ipykernel)",
   "language": "python",
   "name": "python3"
  },
  "language_info": {
   "codemirror_mode": {
    "name": "ipython",
    "version": 3
   },
   "file_extension": ".py",
   "mimetype": "text/x-python",
   "name": "python",
   "nbconvert_exporter": "python",
   "pygments_lexer": "ipython3",
   "version": "3.9.12"
  }
 },
 "nbformat": 4,
 "nbformat_minor": 5
}
