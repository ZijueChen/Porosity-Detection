{
 "cells": [
  {
   "cell_type": "code",
   "execution_count": 1,
   "metadata": {},
   "outputs": [],
   "source": [
    "import tensorflow as tf\n",
    "import time\n",
    "import numpy as np\n",
    "from glob import glob\n",
    "import unet\n",
    "import matplotlib.pyplot as plt\n",
    "import loss_functions\n",
    "import cv2\n",
    "import shutil\n",
    "import os\n",
    "from IPython.display import clear_output"
   ]
  },
  {
   "cell_type": "code",
   "execution_count": 2,
   "metadata": {},
   "outputs": [],
   "source": [
    "GT_path = 'binary2\\\\'\n",
    "RGBD_path = 'pics2\\\\'\n",
    "point_path = 'point_unet2\\\\'\n",
    "# GT_path = 'semantic_dataset/'"
   ]
  },
  {
   "cell_type": "code",
   "execution_count": 3,
   "metadata": {},
   "outputs": [],
   "source": [
    "pic = np.zeros([1,1])\n",
    "def cross_validation(validnum):\n",
    "    shutil.rmtree(point_path + 'train')\n",
    "    shutil.rmtree(point_path + 'test')\n",
    "    os.mkdir(point_path + 'train')\n",
    "    os.mkdir(point_path + 'test')\n",
    "    for i in range(5):\n",
    "        files = glob(point_path + 'group' + str(i) + '\\\\*.png')\n",
    "        if i == validnum:\n",
    "            for file in files:\n",
    "                name = list(file.split('\\\\'))[-1]\n",
    "                cv2.imwrite(point_path + 'test\\\\' + name, pic)\n",
    "        else:\n",
    "            for file in files:\n",
    "                name = list(file.split('\\\\'))[-1][:-4]\n",
    "                cv2.imwrite(point_path + 'train\\\\' + name + '.png', pic)\n",
    "                cv2.imwrite(point_path + 'train\\\\' + name + '_0.png', pic)\n",
    "                cv2.imwrite(point_path + 'train\\\\' + name + '_1.png', pic)\n",
    "                cv2.imwrite(point_path + 'train\\\\' + name + '_2.png', pic)"
   ]
  },
  {
   "cell_type": "code",
   "execution_count": 4,
   "metadata": {},
   "outputs": [],
   "source": [
    "validnum = 4\n",
    "cross_validation(validnum)"
   ]
  },
  {
   "cell_type": "code",
   "execution_count": 5,
   "metadata": {},
   "outputs": [],
   "source": [
    "IMG_WIDTH = 256\n",
    "IMG_HEIGHT = 256\n",
    "BATCH_SIZE = 8\n",
    "BUFFER_SIZE = 500\n",
    "# STEPS_PER_EPOCH = 420 // BATCH_SIZE"
   ]
  },
  {
   "cell_type": "code",
   "execution_count": 6,
   "metadata": {},
   "outputs": [],
   "source": [
    "def load(point_file):\n",
    "    name = tf.strings.split(point_file,'\\\\')[-1]\n",
    "    GT = tf.io.read_file(GT_path + name)\n",
    "    RGBD = tf.io.read_file(RGBD_path + name)\n",
    "    GT = tf.image.decode_png(GT)\n",
    "    RGBD = tf.image.decode_png(RGBD)\n",
    "\n",
    "    GT = tf.cast(GT, tf.float32)// 255.0\n",
    "    RGBD = tf.cast(RGBD, tf.float32)/ 255.0\n",
    "\n",
    "    return RGBD, GT"
   ]
  },
  {
   "cell_type": "code",
   "execution_count": 7,
   "metadata": {},
   "outputs": [],
   "source": [
    "# load('point_folder/train/D_16-12-31.png')"
   ]
  },
  {
   "cell_type": "code",
   "execution_count": 8,
   "metadata": {},
   "outputs": [],
   "source": [
    "train = tf.data.Dataset.list_files(point_path+'train\\\\*.png')\n",
    "train = train.map(load,num_parallel_calls=tf.data.experimental.AUTOTUNE)\n",
    "train_dataset = train.shuffle(BUFFER_SIZE)\n",
    "train_dataset = train_dataset.batch(BATCH_SIZE)#.repeat()"
   ]
  },
  {
   "cell_type": "code",
   "execution_count": 9,
   "metadata": {},
   "outputs": [],
   "source": [
    "test = tf.data.Dataset.list_files(point_path+'test\\\\*.png')\n",
    "test = test.map(load)\n",
    "test_dataset = test.batch(BATCH_SIZE)"
   ]
  },
  {
   "cell_type": "code",
   "execution_count": 10,
   "metadata": {},
   "outputs": [],
   "source": [
    "# def display(display_list):\n",
    "#   plt.figure(figsize=(15, 15))\n",
    "\n",
    "#   title = ['Input Image', 'True Mask', 'Predicted Mask']\n",
    "\n",
    "#   for i in range(len(display_list)):\n",
    "#     plt.subplot(1, len(display_list), i+1)\n",
    "#     plt.title(title[i])\n",
    "#     plt.imshow(tf.keras.preprocessing.image.array_to_img(display_list[i]))\n",
    "#     plt.axis('off')\n",
    "#   plt.show()"
   ]
  },
  {
   "cell_type": "code",
   "execution_count": 11,
   "metadata": {},
   "outputs": [],
   "source": [
    "# import numpy as np\n",
    "# for image, mask in train.take(1):\n",
    "# #     print(image.shape, mask.shape)\n",
    "#     sample_image, sample_mask = image, mask\n",
    "# # print(np.unique(sample_mask[:,:,:3].numpy().flatten()))\n",
    "# display([sample_image[:,:,:3], sample_mask[:,:,:3]])"
   ]
  },
  {
   "cell_type": "code",
   "execution_count": 12,
   "metadata": {},
   "outputs": [],
   "source": [
    "# david version \n",
    "model = unet.UResNet34(input_shape=(256,256,3), classes=1, encoder_weights=None) #semantic segmentatnion change class"
   ]
  },
  {
   "cell_type": "code",
   "execution_count": 13,
   "metadata": {},
   "outputs": [],
   "source": [
    "# model.summary()"
   ]
  },
  {
   "cell_type": "code",
   "execution_count": 14,
   "metadata": {},
   "outputs": [],
   "source": [
    "opt = tf.keras.optimizers.Adam(learning_rate=0.000001)\n",
    "model.compile(optimizer=opt,#'adam'\n",
    "#               loss=tf.keras.losses.BinaryCrossentropy(from_logits=False),)\n",
    "              loss = loss_functions.weighted_dice_loss,)\n",
    "#               metrics=[tf.keras.metrics.BinaryAccuracy(), tf.keras.metrics.MeanIoU(num_classes=2)])#semantic segmentatnion change class"
   ]
  },
  {
   "cell_type": "code",
   "execution_count": 15,
   "metadata": {},
   "outputs": [],
   "source": [
    "checkpoint_filepath = 'weights_checkpoints/2_0'\n",
    "model_checkpoint_callback = tf.keras.callbacks.ModelCheckpoint(\n",
    "    filepath=checkpoint_filepath,\n",
    "    save_weights_only=True,\n",
    "    monitor='val_loss',\n",
    "    mode='min',\n",
    "    save_best_only=True)"
   ]
  },
  {
   "cell_type": "code",
   "execution_count": 16,
   "metadata": {},
   "outputs": [],
   "source": [
    "# def show_predictions(dataset=None, num=1):\n",
    "#   if dataset:\n",
    "#     for image, mask in dataset.take(num):\n",
    "#       pred_mask = model.predict(image)\n",
    "#       display([image[0], mask[0], pred_mask.reshape([256,256,3])*255.0])#255.0 was create_mask\n",
    "#   else:\n",
    "#     display([sample_image[:,:,:3], sample_mask,\n",
    "#              model.predict(sample_image[tf.newaxis, ...])[:,:,:,0].reshape([256,256,1])*255.0])# for instance segmentatnion\n",
    "# #     display([sample_image[:,:,:3], tf.reshape(sample_mask[:,:,0], [256,256,1]),\n",
    "# #              model.predict(sample_image[tf.newaxis, ...])[:,:,:,0].reshape([256,256,1])])# only use this"
   ]
  },
  {
   "cell_type": "code",
   "execution_count": 17,
   "metadata": {
    "scrolled": true
   },
   "outputs": [],
   "source": [
    "# show_predictions()"
   ]
  },
  {
   "cell_type": "code",
   "execution_count": 18,
   "metadata": {},
   "outputs": [],
   "source": [
    "# class DisplayCallback(tf.keras.callbacks.Callback):\n",
    "#   def on_epoch_end(self, epoch, logs=None):\n",
    "#     clear_output(wait=True)\n",
    "#     show_predictions()\n",
    "#     print ('\\nSample Prediction after epoch {}\\n'.format(epoch+1))"
   ]
  },
  {
   "cell_type": "code",
   "execution_count": 19,
   "metadata": {
    "scrolled": false
   },
   "outputs": [
    {
     "name": "stdout",
     "output_type": "stream",
     "text": [
      "Epoch 1/30\n",
      "57/57 [==============================] - 11s 75ms/step - loss: 0.8821 - val_loss: 0.8691\n",
      "Epoch 2/30\n",
      "57/57 [==============================] - 4s 61ms/step - loss: 0.8779 - val_loss: 0.8690\n",
      "Epoch 3/30\n",
      "57/57 [==============================] - 4s 61ms/step - loss: 0.8734 - val_loss: 0.8691\n",
      "Epoch 4/30\n",
      "57/57 [==============================] - 4s 61ms/step - loss: 0.8654 - val_loss: 0.8601\n",
      "Epoch 5/30\n",
      "57/57 [==============================] - 4s 61ms/step - loss: 0.8599 - val_loss: 0.8562\n",
      "Epoch 6/30\n",
      "57/57 [==============================] - 4s 61ms/step - loss: 0.8515 - val_loss: 0.8544\n",
      "Epoch 7/30\n",
      "57/57 [==============================] - 4s 61ms/step - loss: 0.8431 - val_loss: 0.8359\n",
      "Epoch 8/30\n",
      "57/57 [==============================] - 4s 61ms/step - loss: 0.8312 - val_loss: 0.8007\n",
      "Epoch 9/30\n",
      "57/57 [==============================] - 4s 61ms/step - loss: 0.7933 - val_loss: 0.7517\n",
      "Epoch 10/30\n",
      "57/57 [==============================] - 4s 61ms/step - loss: 0.6821 - val_loss: 0.6102\n",
      "Epoch 11/30\n",
      "57/57 [==============================] - 4s 61ms/step - loss: 0.5236 - val_loss: 0.5339\n",
      "Epoch 12/30\n",
      "57/57 [==============================] - 4s 61ms/step - loss: 0.4245 - val_loss: 0.4228\n",
      "Epoch 13/30\n",
      "57/57 [==============================] - 4s 61ms/step - loss: 0.3575 - val_loss: 0.3595\n",
      "Epoch 14/30\n",
      "57/57 [==============================] - 4s 61ms/step - loss: 0.2954 - val_loss: 0.2746\n",
      "Epoch 15/30\n",
      "57/57 [==============================] - 4s 61ms/step - loss: 0.2762 - val_loss: 0.2338\n",
      "Epoch 16/30\n",
      "57/57 [==============================] - 4s 61ms/step - loss: 0.2302 - val_loss: 0.1849\n",
      "Epoch 17/30\n",
      "57/57 [==============================] - 4s 61ms/step - loss: 0.2130 - val_loss: 0.1918\n",
      "Epoch 18/30\n",
      "57/57 [==============================] - 4s 61ms/step - loss: 0.1756 - val_loss: 0.1466\n",
      "Epoch 19/30\n",
      "57/57 [==============================] - 4s 61ms/step - loss: 0.1619 - val_loss: 0.1174\n",
      "Epoch 20/30\n",
      "57/57 [==============================] - 4s 61ms/step - loss: 0.1526 - val_loss: 0.1131\n",
      "Epoch 21/30\n",
      "57/57 [==============================] - 4s 61ms/step - loss: 0.1345 - val_loss: 0.0857\n",
      "Epoch 22/30\n",
      "57/57 [==============================] - 4s 61ms/step - loss: 0.1091 - val_loss: 0.0830\n",
      "Epoch 23/30\n",
      "57/57 [==============================] - 4s 61ms/step - loss: 0.1036 - val_loss: 0.0496\n",
      "Epoch 24/30\n",
      "57/57 [==============================] - 4s 61ms/step - loss: 0.0817 - val_loss: 0.0610\n",
      "Epoch 25/30\n",
      "57/57 [==============================] - 4s 61ms/step - loss: 0.0654 - val_loss: 0.0383\n",
      "Epoch 26/30\n",
      "57/57 [==============================] - 4s 61ms/step - loss: 0.0456 - val_loss: 0.0403\n",
      "Epoch 27/30\n",
      "57/57 [==============================] - 4s 61ms/step - loss: 0.0603 - val_loss: 0.0379\n",
      "Epoch 28/30\n",
      "57/57 [==============================] - 4s 61ms/step - loss: 0.0420 - val_loss: 0.0215\n",
      "Epoch 29/30\n",
      "57/57 [==============================] - 4s 61ms/step - loss: 0.0340 - val_loss: 0.0112\n",
      "Epoch 30/30\n",
      "57/57 [==============================] - 4s 61ms/step - loss: 0.0274 - val_loss: 9.7910e-04\n"
     ]
    }
   ],
   "source": [
    "EPOCHS = 30\n",
    "# VALIDATION_STEPS = 105//BATCH_SIZE\n",
    "model_history = model.fit(train_dataset, epochs=EPOCHS,\n",
    "#                           steps_per_epoch=STEPS_PER_EPOCH,\n",
    "#                           validation_steps=VALIDATION_STEPS,\n",
    "                          validation_data=test_dataset,\n",
    "                          callbacks=[model_checkpoint_callback])"
   ]
  },
  {
   "cell_type": "code",
   "execution_count": 20,
   "metadata": {},
   "outputs": [
    {
     "data": {
      "text/plain": [
       "[<matplotlib.lines.Line2D at 0x222905f3280>]"
      ]
     },
     "execution_count": 20,
     "metadata": {},
     "output_type": "execute_result"
    },
    {
     "data": {
      "image/png": "[encoded data removed]",
      "text/plain": [
       "<Figure size 432x288 with 1 Axes>"
      ]
     },
     "metadata": {},
     "output_type": "display_data"
    }
   ],
   "source": [
    "loss = model_history.history['loss']\n",
    "val_loss = model_history.history['val_loss']\n",
    "plt.plot(loss)\n",
    "plt.plot(val_loss)"
   ]
  },
  {
   "cell_type": "code",
   "execution_count": 21,
   "metadata": {},
   "outputs": [
    {
     "data": {
      "text/plain": [
       "<tensorflow.python.training.tracking.util.CheckpointLoadStatus at 0x22231f0c9d0>"
      ]
     },
     "execution_count": 21,
     "metadata": {},
     "output_type": "execute_result"
    }
   ],
   "source": [
    "model.load_weights(checkpoint_filepath)"
   ]
  },
  {
   "cell_type": "code",
   "execution_count": 22,
   "metadata": {},
   "outputs": [],
   "source": [
    "def save_predictions(path):\n",
    "    files = glob(path + '*.png')\n",
    "    for file in files:\n",
    "        name = list(file.split(\"\\\\\"))[-1]\n",
    "#         print(name)\n",
    "        image, _ = load(file)\n",
    "        prediction = model.predict(tf.reshape(image,[1, 256, 256, 3]))#change here when change input shape\n",
    "#         print(prediction.shape)\n",
    "        prediction = np.array(tf.reshape(prediction[:,:,:,0], [256,256,1]))*255\n",
    "        cv2.imwrite('predictions_unet\\\\' + name, prediction)#这个是正在用的\n",
    "#         cv2.imwrite('Unet_cross_results/' + name, prediction[:,:,1:])"
   ]
  },
  {
   "cell_type": "code",
   "execution_count": 23,
   "metadata": {},
   "outputs": [],
   "source": [
    "# start = time.time()\n",
    "save_predictions(point_path + 'test\\\\')\n",
    "# end = time.time()\n",
    "# print(end - start)\n"
   ]
  },
  {
   "cell_type": "code",
   "execution_count": 24,
   "metadata": {},
   "outputs": [],
   "source": [
    "# files = glob(point_path + 'test/' + '*.png')\n",
    "# (end - start)/len(files)"
   ]
  },
  {
   "cell_type": "code",
   "execution_count": null,
   "metadata": {},
   "outputs": [],
   "source": []
  }
 ],
 "metadata": {
  "kernelspec": {
   "display_name": "Python 3 (ipykernel)",
   "language": "python",
   "name": "python3"
  },
  "language_info": {
   "codemirror_mode": {
    "name": "ipython",
    "version": 3
   },
   "file_extension": ".py",
   "mimetype": "text/x-python",
   "name": "python",
   "nbconvert_exporter": "python",
   "pygments_lexer": "ipython3",
   "version": "3.9.12"
  }
 },
 "nbformat": 4,
 "nbformat_minor": 2
}
