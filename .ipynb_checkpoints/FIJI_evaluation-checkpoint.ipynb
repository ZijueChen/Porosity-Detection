{
 "cells": [
  {
   "cell_type": "code",
   "execution_count": 91,
   "id": "b20e47ad",
   "metadata": {},
   "outputs": [],
   "source": [
    "import numpy as np\n",
    "import pandas as pd\n",
    "import cv2\n",
    "import seaborn as sns\n",
    "sns.set(rc={'figure.figsize':(13,9)})\n",
    "from glob import glob"
   ]
  },
  {
   "cell_type": "code",
   "execution_count": 2,
   "id": "e26d6eff",
   "metadata": {},
   "outputs": [],
   "source": [
    "# 输入图片的名字找到对应sample在excel里的名字\n",
    "def get_sample_name(name):\n",
    "    if name[1] == 's' or name[0] == 'x' or name[0] == 'y':\n",
    "        folder = list(name.split(' '))[0][:3]\n",
    "        if folder[0] == 'y':\n",
    "            folder = '6s8'\n",
    "        elif folder[0] == 'x':\n",
    "            folder = '3s8'\n",
    "    else:\n",
    "        folder = list(name.split('_'))[0]\n",
    "        if folder[0] != 'R':\n",
    "            folder = 'R' + folder\n",
    "    return folder"
   ]
  },
  {
   "cell_type": "code",
   "execution_count": 36,
   "id": "d21a5dd3",
   "metadata": {},
   "outputs": [],
   "source": [
    "# 输入fiji生成的csv file所在的folder名字 生成总结的pd表格df\n",
    "def get_fiji_summary(folder_name):\n",
    "    files = glob('..\\\\' + folder_name + '\\\\*.csv')\n",
    "    samples = []\n",
    "    oriens = []\n",
    "    pics = []\n",
    "    areas = []\n",
    "    a_ratios = []\n",
    "    circs = []\n",
    "    for file in files:\n",
    "        df = pd.read_csv(file)\n",
    "        df['a_ratio'] = df['Major']/df['Minor']\n",
    "        name = list(list(file.split('\\\\'))[-1].split('.csv'))[0]\n",
    "        sample, dirc = list(name.split('_'))[0], list(name.split('_'))[1]\n",
    "        samples=samples+[sample]*len(list(df['Label']))\n",
    "        oriens=oriens+[dirc]*len(list(df['Label']))\n",
    "        pics=pics+list(df['Label'])\n",
    "        areas=areas+list(df['Area'])\n",
    "        a_ratios=a_ratios+list(df['a_ratio'])\n",
    "        circs=circs+list(df['Circ.'])\n",
    "    new_df = pd.DataFrame({'Sample': samples, 'Orientation': oriens, \n",
    "                           'Picture': pics,'Area': areas, \n",
    "                          'Aspect_Ratio': a_ratios, 'Circularity': circs})\n",
    "    return new_df\n",
    "#     new_df.to_excel('..\\\\' + folder_name + '\\\\summary.xlsx')"
   ]
  },
  {
   "cell_type": "code",
   "execution_count": 56,
   "id": "b527db63",
   "metadata": {},
   "outputs": [
    {
     "data": {
      "text/html": [
       "<div>\n",
       "<style scoped>\n",
       "    .dataframe tbody tr th:only-of-type {\n",
       "        vertical-align: middle;\n",
       "    }\n",
       "\n",
       "    .dataframe tbody tr th {\n",
       "        vertical-align: top;\n",
       "    }\n",
       "\n",
       "    .dataframe thead th {\n",
       "        text-align: right;\n",
       "    }\n",
       "</style>\n",
       "<table border=\"1\" class=\"dataframe\">\n",
       "  <thead>\n",
       "    <tr style=\"text-align: right;\">\n",
       "      <th></th>\n",
       "      <th>Sample</th>\n",
       "      <th>Orientation</th>\n",
       "      <th>Picture</th>\n",
       "      <th>Area</th>\n",
       "      <th>Aspect_Ratio</th>\n",
       "      <th>Circularity</th>\n",
       "    </tr>\n",
       "  </thead>\n",
       "  <tbody>\n",
       "    <tr>\n",
       "      <th>0</th>\n",
       "      <td>3s1</td>\n",
       "      <td>h</td>\n",
       "      <td>3s1_h_0002.png</td>\n",
       "      <td>25</td>\n",
       "      <td>2.010050</td>\n",
       "      <td>0.79</td>\n",
       "    </tr>\n",
       "    <tr>\n",
       "      <th>1</th>\n",
       "      <td>3s1</td>\n",
       "      <td>h</td>\n",
       "      <td>3s1_h_0002.png</td>\n",
       "      <td>3</td>\n",
       "      <td>1.456790</td>\n",
       "      <td>1.00</td>\n",
       "    </tr>\n",
       "    <tr>\n",
       "      <th>2</th>\n",
       "      <td>3s1</td>\n",
       "      <td>h</td>\n",
       "      <td>3s1_h_0002.png</td>\n",
       "      <td>31</td>\n",
       "      <td>1.831897</td>\n",
       "      <td>0.91</td>\n",
       "    </tr>\n",
       "    <tr>\n",
       "      <th>3</th>\n",
       "      <td>3s1</td>\n",
       "      <td>h</td>\n",
       "      <td>3s1_h_0002.png</td>\n",
       "      <td>3</td>\n",
       "      <td>3.000000</td>\n",
       "      <td>0.97</td>\n",
       "    </tr>\n",
       "    <tr>\n",
       "      <th>4</th>\n",
       "      <td>3s1</td>\n",
       "      <td>h</td>\n",
       "      <td>3s1_h_0002.png</td>\n",
       "      <td>7</td>\n",
       "      <td>1.069204</td>\n",
       "      <td>1.00</td>\n",
       "    </tr>\n",
       "  </tbody>\n",
       "</table>\n",
       "</div>"
      ],
      "text/plain": [
       "  Sample Orientation         Picture  Area  Aspect_Ratio  Circularity\n",
       "0    3s1           h  3s1_h_0002.png    25      2.010050         0.79\n",
       "1    3s1           h  3s1_h_0002.png     3      1.456790         1.00\n",
       "2    3s1           h  3s1_h_0002.png    31      1.831897         0.91\n",
       "3    3s1           h  3s1_h_0002.png     3      3.000000         0.97\n",
       "4    3s1           h  3s1_h_0002.png     7      1.069204         1.00"
      ]
     },
     "execution_count": 56,
     "metadata": {},
     "output_type": "execute_result"
    }
   ],
   "source": [
    "folder_name = 'FIJI_evaluation3'\n",
    "# get_fiji_summary(folder_name)\n",
    "df = get_fiji_summary(folder_name)\n",
    "df.head()"
   ]
  },
  {
   "cell_type": "code",
   "execution_count": 82,
   "id": "bb8f6078",
   "metadata": {},
   "outputs": [],
   "source": [
    "# 救 还是直接转化成list随便搞吧\n",
    "def get_metrics(df):\n",
    "    samples = list(set(list(df['Sample'])))\n",
    "    l_sample = []\n",
    "    l_orien = []\n",
    "    l_p = []\n",
    "    l_a_ratio = []\n",
    "    l_circ = []\n",
    "    for s in samples:\n",
    "        for o in ['h', 'v']:\n",
    "            # 求p\n",
    "            l_sample = l_sample +[s]\n",
    "            l_orien = l_orien +[o]\n",
    "            files = glob('..\\\\binary3\\\\' + s + '_' + o +'*.png')\n",
    "            ps = []\n",
    "            for file in files:\n",
    "                pic = cv2.imread(file, 0)\n",
    "                ps = ps + [np.count_nonzero(pic)/len(pic.flatten())]\n",
    "            if len(ps) == 0:\n",
    "                l_p = l_p+[0]\n",
    "            else:\n",
    "                l_p = l_p+[sum(ps)/len(ps)]\n",
    "            # 求circularity\n",
    "            l_circ = l_circ+[df[(df['Sample']==s)&(df['Orientation']==o)]['Circularity'].mean()]\n",
    "            # 求前10% aspect ratio\n",
    "            ar = sorted(list(df[(df['Sample']==s)&(df['Orientation']==o)]['Aspect_Ratio']))\n",
    "            ar_10 = ar[:len(ar)//10]\n",
    "            if len(ar_10) == 0:\n",
    "                l_a_ratio = l_a_ratio+[0]\n",
    "            else:\n",
    "                l_a_ratio = l_a_ratio+[sum(ar_10)/len(ar_10)]\n",
    "    new_df = pd.DataFrame({'Sample': l_sample, 'Orientation': l_orien, \n",
    "                           'P': l_p, 'Aspect_Ratio': l_a_ratio, 'Circularity': l_circ})\n",
    "    return new_df\n",
    "#     new_df.to_excel('..\\\\' + folder_name + '\\\\metrics_result.xlsx')"
   ]
  },
  {
   "cell_type": "code",
   "execution_count": 83,
   "id": "94183f55",
   "metadata": {},
   "outputs": [],
   "source": [
    "metri_df = get_metrics(df)"
   ]
  },
  {
   "cell_type": "code",
   "execution_count": 94,
   "id": "26f3a4be",
   "metadata": {},
   "outputs": [
    {
     "data": {
      "text/plain": [
       "<AxesSubplot:xlabel='Sample', ylabel='P'>"
      ]
     },
     "execution_count": 94,
     "metadata": {},
     "output_type": "execute_result"
    },
    {
     "data": {
      "image/png": "[encoded data removed]",
      "text/plain": [
       "<Figure size 936x648 with 1 Axes>"
      ]
     },
     "metadata": {},
     "output_type": "display_data"
    }
   ],
   "source": [
    "import matplotlib.pyplot as plt\n",
    "\n",
    "sns.barplot(data=metri_df, x=\"Sample\", y=\"P\", hue=\"Orientation\")\n",
    "# plt.ylim(0, 0.1)"
   ]
  },
  {
   "cell_type": "code",
   "execution_count": 8,
   "id": "0009fc05",
   "metadata": {},
   "outputs": [],
   "source": [
    "# 之前的版本\n",
    "# 输入fiji生成的csv file所在的folder名字 生成总结的pd表格df\n",
    "# def get_fiji_summary(folder_name):\n",
    "#     files = glob('..\\\\' + folder_name + '\\\\*.csv')\n",
    "#     samples = []\n",
    "#     pics = []\n",
    "#     areas = []\n",
    "#     majors = []\n",
    "#     minors = []\n",
    "#     circs = []\n",
    "#     for file in files:\n",
    "#         df = pd.read_csv(file)\n",
    "#         name = list(list(file.split('\\\\'))[-1].split('.csv'))[0]\n",
    "#         sample = list(name.split('_'))[0]\n",
    "#         samples=samples+[sample]*len(list(df['Label']))\n",
    "#         pics=pics+list(df['Label'])\n",
    "#         areas=areas+list(df['Area'])\n",
    "#         majors=majors+list(df['Major'])\n",
    "#         minors=minors+list(df['Minor'])\n",
    "#         circs=circs+list(df['Circ.'])\n",
    "#     new_df = pd.DataFrame({'Sample': samples, 'Picture': pics,\n",
    "#                           'Area': areas, 'Major': majors,\n",
    "#                           'Minor': minors, 'Circularity': circs})\n",
    "# #     return new_df\n",
    "#     new_df.to_csv('..\\\\' + folder_name + '\\\\summary.csv')"
   ]
  },
  {
   "cell_type": "code",
   "execution_count": null,
   "id": "739b4380",
   "metadata": {},
   "outputs": [],
   "source": []
  }
 ],
 "metadata": {
  "kernelspec": {
   "display_name": "Python 3 (ipykernel)",
   "language": "python",
   "name": "python3"
  },
  "language_info": {
   "codemirror_mode": {
    "name": "ipython",
    "version": 3
   },
   "file_extension": ".py",
   "mimetype": "text/x-python",
   "name": "python",
   "nbconvert_exporter": "python",
   "pygments_lexer": "ipython3",
   "version": "3.9.12"
  }
 },
 "nbformat": 4,
 "nbformat_minor": 5
}
