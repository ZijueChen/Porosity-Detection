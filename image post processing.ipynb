{
 "cells": [
  {
   "cell_type": "code",
   "execution_count": 2,
   "id": "13f6d30e",
   "metadata": {},
   "outputs": [],
   "source": [
    "import numpy as np\n",
    "import cv2\n",
    "from glob import glob"
   ]
  },
  {
   "cell_type": "code",
   "execution_count": 7,
   "id": "4ac6a7fe",
   "metadata": {},
   "outputs": [],
   "source": [
    "files = glob('predictions_unet\\\\*.*')\n",
    "vline = np.ones([256, 6, 3])*255\n",
    "for file in files:\n",
    "    name = list(file.split('\\\\'))[-1]\n",
    "#     name = list(name.split('.png'))[0]\n",
    "    RGB = cv2.imread('pics2\\\\' + name)\n",
    "    GT = cv2.imread('binary2\\\\' + name)\n",
    "    pred = cv2.imread(file)\n",
    "    pic = np.concatenate([RGB,vline, GT,vline,pred], axis=1)\n",
    "    cv2.imwrite('RGB_GT_predUnet\\\\' + name, pic)"
   ]
  },
  {
   "cell_type": "code",
   "execution_count": null,
   "id": "5300f2a8",
   "metadata": {},
   "outputs": [],
   "source": []
  }
 ],
 "metadata": {
  "kernelspec": {
   "display_name": "Python 3 (ipykernel)",
   "language": "python",
   "name": "python3"
  },
  "language_info": {
   "codemirror_mode": {
    "name": "ipython",
    "version": 3
   },
   "file_extension": ".py",
   "mimetype": "text/x-python",
   "name": "python",
   "nbconvert_exporter": "python",
   "pygments_lexer": "ipython3",
   "version": "3.9.12"
  }
 },
 "nbformat": 4,
 "nbformat_minor": 5
}
