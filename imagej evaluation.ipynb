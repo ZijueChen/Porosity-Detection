{
 "cells": [
  {
   "cell_type": "code",
   "execution_count": 1,
   "id": "53785ef0",
   "metadata": {},
   "outputs": [],
   "source": [
    "import imagej\n",
    "ij = imagej.init()"
   ]
  },
  {
   "cell_type": "code",
   "execution_count": 2,
   "id": "ae896338",
   "metadata": {
    "scrolled": true
   },
   "outputs": [
    {
     "name": "stderr",
     "output_type": "stream",
     "text": [
      "Operating in headless mode - the original ImageJ will have limited functionality.\n",
      "Operating in headless mode - the IJ class will not be fully functional.\n",
      "The compare_version function is deprecated. Use is_version_at_least instead.\n"
     ]
    },
    {
     "data": {
      "image/png": "[encoded data removed]",
      "text/plain": [
       "<Figure size 432x288 with 1 Axes>"
      ]
     },
     "metadata": {
      "needs_background": "light"
     },
     "output_type": "display_data"
    }
   ],
   "source": [
    "imp = ij.IJ.openImage('..\\\\binary2/1_in_2.5x-0002.png')\n",
    "ij.py.show(imp)"
   ]
  },
  {
   "cell_type": "code",
   "execution_count": 3,
   "id": "ba67ba53",
   "metadata": {},
   "outputs": [
    {
     "ename": "AttributeError",
     "evalue": "'_jpype._JMethod' object has no attribute 'filter'",
     "output_type": "error",
     "traceback": [
      "\u001b[1;31m---------------------------------------------------------------------------\u001b[0m",
      "\u001b[1;31mAttributeError\u001b[0m                            Traceback (most recent call last)",
      "Input \u001b[1;32mIn [3]\u001b[0m, in \u001b[0;36m<cell line: 1>\u001b[1;34m()\u001b[0m\n\u001b[1;32m----> 1\u001b[0m PA \u001b[38;5;241m=\u001b[39m \u001b[43mij\u001b[49m\u001b[38;5;241;43m.\u001b[39;49m\u001b[43mplugin\u001b[49m\u001b[38;5;241;43m.\u001b[39;49m\u001b[43mfilter\u001b[49m\u001b[38;5;241m.\u001b[39mParticleAnalyzer()\n",
      "\u001b[1;31mAttributeError\u001b[0m: '_jpype._JMethod' object has no attribute 'filter'"
     ]
    }
   ],
   "source": [
    "PA = ij.plugin.filter.ParticleAnalyzer()"
   ]
  },
  {
   "cell_type": "code",
   "execution_count": 13,
   "id": "f574ddf7",
   "metadata": {},
   "outputs": [
    {
     "name": "stdout",
     "output_type": "stream",
     "text": [
      "3 cells detected\n"
     ]
    }
   ],
   "source": [
    "ij.IJ.run(imp, \"Create Selection\", \"\")\n",
    "roi = imp.getRoi()\n",
    "ij.IJ.run(imp, \"Close\", \"\")\n",
    "\n",
    "# Split the ROI into cells.\n",
    "# This works because cells are disconnected due to the watershed.\n",
    "rois = roi.getRois()\n",
    "print(len(rois), \"cells detected\")"
   ]
  },
  {
   "cell_type": "code",
   "execution_count": null,
   "id": "dc2c82af",
   "metadata": {},
   "outputs": [],
   "source": [
    "# import imagej\n",
    "# ij = imagej.init('/Applications/Fiji.app')\n",
    "# from ij import IJ, ImagePlus\n",
    "# from ij.plugin.filter import ParticleAnalyzer as PA\n",
    "# from ij.measure import ResultsTable\n",
    " \n",
    "imp = ij.IJ.getImage()\n",
    "PA = ij.plugin.filter.ParticleAnalyzer()\n",
    " \n",
    "MAXSIZE = 10000;\n",
    "MINSIZE = 100;\n",
    "options = PA.SHOW_ROI_MASKS \\\n",
    "\t+ PA.EXCLUDE_EDGE_PARTICLES \\\n",
    "\t+ PA.INCLUDE_HOLES \\\n",
    "\t+ PA.SHOW_RESULTS\n",
    "rt = ij.measure.ResultsTable()\n",
    "p = PA(options, PA.AREA + PA.STACK_POSITION, rt, MINSIZE, MAXSIZE)\n",
    "p.setHideOutputImage(True)\n",
    "stk = ImageStack(imp.getWidth(), imp.getHeight())\n",
    " \n",
    "for i in range(imp.getStackSize()):\n",
    "\timp.setSliceWithoutUpdate(i + 1)\n",
    "\tp.analyze(imp)\n",
    "\tmmap = p.getOutputImage()\n",
    "\tstk.addSlice(mmap.getProcessor())\n",
    " \n",
    "ImagePlus(\"tt\", stk).show()"
   ]
  },
  {
   "cell_type": "code",
   "execution_count": null,
   "id": "418b74c6",
   "metadata": {},
   "outputs": [],
   "source": []
  }
 ],
 "metadata": {
  "kernelspec": {
   "display_name": "Python 3 (ipykernel)",
   "language": "python",
   "name": "python3"
  },
  "language_info": {
   "codemirror_mode": {
    "name": "ipython",
    "version": 3
   },
   "file_extension": ".py",
   "mimetype": "text/x-python",
   "name": "python",
   "nbconvert_exporter": "python",
   "pygments_lexer": "ipython3",
   "version": "3.8.13"
  }
 },
 "nbformat": 4,
 "nbformat_minor": 5
}
